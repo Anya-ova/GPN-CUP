{
 "cells": [
  {
   "cell_type": "markdown",
   "id": "8f3c4c11",
   "metadata": {},
   "source": [
    "### Решение от Абрамовой Анна Константиновны направление Data Science"
   ]
  },
  {
   "cell_type": "markdown",
   "id": "df8ae20b",
   "metadata": {},
   "source": [
    "### Подготовка и анализ данных"
   ]
  },
  {
   "cell_type": "code",
   "execution_count": 1,
   "id": "93ffeb60",
   "metadata": {},
   "outputs": [],
   "source": [
    "import pandas as pd\n",
    "import numpy as np\n",
    "import seaborn as sns\n",
    "import matplotlib.pyplot as plt"
   ]
  },
  {
   "cell_type": "code",
   "execution_count": 2,
   "id": "bd1c6aaa",
   "metadata": {},
   "outputs": [],
   "source": [
    "plt.rcParams[\"figure.figsize\"] = (12, 8)\n",
    "plt.rcParams.update({'font.size': 11})"
   ]
  },
  {
   "cell_type": "code",
   "execution_count": 3,
   "id": "fd0f8705",
   "metadata": {},
   "outputs": [],
   "source": [
    "df_transaction = pd.read_parquet(\"../data/transaction_df.parquet\")\n",
    "df_competitors = pd.read_parquet(\"../data/df_competitors.parquet\")\n",
    "df_cost = pd.read_parquet(\"../data/df_cost.parquet\")\n",
    "df_weather = pd.read_parquet(\"../data/weather_df.parquet\")"
   ]
  },
  {
   "cell_type": "markdown",
   "id": "1b5900d0",
   "metadata": {},
   "source": [
    "#### Работа с данными транзакций "
   ]
  },
  {
   "cell_type": "code",
   "execution_count": 4,
   "id": "a22769e6",
   "metadata": {},
   "outputs": [
    {
     "data": {
      "text/html": [
       "<div>\n",
       "<style scoped>\n",
       "    .dataframe tbody tr th:only-of-type {\n",
       "        vertical-align: middle;\n",
       "    }\n",
       "\n",
       "    .dataframe tbody tr th {\n",
       "        vertical-align: top;\n",
       "    }\n",
       "\n",
       "    .dataframe thead th {\n",
       "        text-align: right;\n",
       "    }\n",
       "</style>\n",
       "<table border=\"1\" class=\"dataframe\">\n",
       "  <thead>\n",
       "    <tr style=\"text-align: right;\">\n",
       "      <th></th>\n",
       "      <th>product</th>\n",
       "      <th>price</th>\n",
       "      <th>amount</th>\n",
       "      <th>place</th>\n",
       "      <th>datetime</th>\n",
       "    </tr>\n",
       "  </thead>\n",
       "  <tbody>\n",
       "    <tr>\n",
       "      <th>0</th>\n",
       "      <td>Целебные травы</td>\n",
       "      <td>3.90</td>\n",
       "      <td>1.242125</td>\n",
       "      <td>Анор Лондо</td>\n",
       "      <td>2216-01-02 16:28:00</td>\n",
       "    </tr>\n",
       "    <tr>\n",
       "      <th>1</th>\n",
       "      <td>Целебные травы</td>\n",
       "      <td>3.90</td>\n",
       "      <td>-0.079689</td>\n",
       "      <td>Анор Лондо</td>\n",
       "      <td>2216-01-02 16:21:00</td>\n",
       "    </tr>\n",
       "    <tr>\n",
       "      <th>2</th>\n",
       "      <td>Целебные травы</td>\n",
       "      <td>3.90</td>\n",
       "      <td>0.882450</td>\n",
       "      <td>Анор Лондо</td>\n",
       "      <td>2216-01-02 03:03:00</td>\n",
       "    </tr>\n",
       "    <tr>\n",
       "      <th>3</th>\n",
       "      <td>Целебные травы</td>\n",
       "      <td>3.90</td>\n",
       "      <td>0.621377</td>\n",
       "      <td>Анор Лондо</td>\n",
       "      <td>2216-01-02 03:12:00</td>\n",
       "    </tr>\n",
       "    <tr>\n",
       "      <th>4</th>\n",
       "      <td>Целебные травы</td>\n",
       "      <td>3.90</td>\n",
       "      <td>1.367161</td>\n",
       "      <td>Анор Лондо</td>\n",
       "      <td>2216-01-02 05:33:00</td>\n",
       "    </tr>\n",
       "    <tr>\n",
       "      <th>...</th>\n",
       "      <td>...</td>\n",
       "      <td>...</td>\n",
       "      <td>...</td>\n",
       "      <td>...</td>\n",
       "      <td>...</td>\n",
       "    </tr>\n",
       "    <tr>\n",
       "      <th>875031</th>\n",
       "      <td>Эстус</td>\n",
       "      <td>9.28</td>\n",
       "      <td>1.079104</td>\n",
       "      <td>Фалькония</td>\n",
       "      <td>2218-09-27 14:50:00</td>\n",
       "    </tr>\n",
       "    <tr>\n",
       "      <th>875032</th>\n",
       "      <td>Эстус</td>\n",
       "      <td>9.28</td>\n",
       "      <td>1.580617</td>\n",
       "      <td>Фалькония</td>\n",
       "      <td>2218-09-27 06:16:00</td>\n",
       "    </tr>\n",
       "    <tr>\n",
       "      <th>875033</th>\n",
       "      <td>Эстус</td>\n",
       "      <td>9.28</td>\n",
       "      <td>1.738492</td>\n",
       "      <td>Фалькония</td>\n",
       "      <td>2218-09-27 11:14:00</td>\n",
       "    </tr>\n",
       "    <tr>\n",
       "      <th>875034</th>\n",
       "      <td>Эстус</td>\n",
       "      <td>9.28</td>\n",
       "      <td>0.430340</td>\n",
       "      <td>Фалькония</td>\n",
       "      <td>2218-09-27 22:24:00</td>\n",
       "    </tr>\n",
       "    <tr>\n",
       "      <th>875035</th>\n",
       "      <td>Эстус</td>\n",
       "      <td>9.28</td>\n",
       "      <td>0.090248</td>\n",
       "      <td>Фалькония</td>\n",
       "      <td>2218-09-27 17:50:00</td>\n",
       "    </tr>\n",
       "  </tbody>\n",
       "</table>\n",
       "<p>875036 rows × 5 columns</p>\n",
       "</div>"
      ],
      "text/plain": [
       "               product  price    amount       place            datetime\n",
       "0       Целебные травы   3.90  1.242125  Анор Лондо 2216-01-02 16:28:00\n",
       "1       Целебные травы   3.90 -0.079689  Анор Лондо 2216-01-02 16:21:00\n",
       "2       Целебные травы   3.90  0.882450  Анор Лондо 2216-01-02 03:03:00\n",
       "3       Целебные травы   3.90  0.621377  Анор Лондо 2216-01-02 03:12:00\n",
       "4       Целебные травы   3.90  1.367161  Анор Лондо 2216-01-02 05:33:00\n",
       "...                ...    ...       ...         ...                 ...\n",
       "875031           Эстус   9.28  1.079104   Фалькония 2218-09-27 14:50:00\n",
       "875032           Эстус   9.28  1.580617   Фалькония 2218-09-27 06:16:00\n",
       "875033           Эстус   9.28  1.738492   Фалькония 2218-09-27 11:14:00\n",
       "875034           Эстус   9.28  0.430340   Фалькония 2218-09-27 22:24:00\n",
       "875035           Эстус   9.28  0.090248   Фалькония 2218-09-27 17:50:00\n",
       "\n",
       "[875036 rows x 5 columns]"
      ]
     },
     "execution_count": 4,
     "metadata": {},
     "output_type": "execute_result"
    }
   ],
   "source": [
    "df_transaction"
   ]
  },
  {
   "cell_type": "code",
   "execution_count": 5,
   "id": "3e8c0b24",
   "metadata": {},
   "outputs": [
    {
     "data": {
      "text/plain": [
       "product             object\n",
       "price              float64\n",
       "amount             float64\n",
       "place               object\n",
       "datetime    datetime64[ns]\n",
       "dtype: object"
      ]
     },
     "execution_count": 5,
     "metadata": {},
     "output_type": "execute_result"
    }
   ],
   "source": [
    "df_transaction.dtypes"
   ]
  },
  {
   "cell_type": "markdown",
   "id": "31f1ffb9",
   "metadata": {},
   "source": [
    "Убираю значение времени время из столбца datetime"
   ]
  },
  {
   "cell_type": "code",
   "execution_count": 6,
   "id": "35a96140",
   "metadata": {},
   "outputs": [],
   "source": [
    "df_transaction['datetime'] = pd.to_datetime(df_transaction['datetime']).dt.date"
   ]
  },
  {
   "cell_type": "code",
   "execution_count": 7,
   "id": "3000e630",
   "metadata": {},
   "outputs": [
    {
     "data": {
      "text/html": [
       "<div>\n",
       "<style scoped>\n",
       "    .dataframe tbody tr th:only-of-type {\n",
       "        vertical-align: middle;\n",
       "    }\n",
       "\n",
       "    .dataframe tbody tr th {\n",
       "        vertical-align: top;\n",
       "    }\n",
       "\n",
       "    .dataframe thead th {\n",
       "        text-align: right;\n",
       "    }\n",
       "</style>\n",
       "<table border=\"1\" class=\"dataframe\">\n",
       "  <thead>\n",
       "    <tr style=\"text-align: right;\">\n",
       "      <th></th>\n",
       "      <th>product</th>\n",
       "      <th>price</th>\n",
       "      <th>amount</th>\n",
       "      <th>place</th>\n",
       "      <th>datetime</th>\n",
       "    </tr>\n",
       "  </thead>\n",
       "  <tbody>\n",
       "    <tr>\n",
       "      <th>0</th>\n",
       "      <td>Целебные травы</td>\n",
       "      <td>3.90</td>\n",
       "      <td>1.242125</td>\n",
       "      <td>Анор Лондо</td>\n",
       "      <td>2216-01-02</td>\n",
       "    </tr>\n",
       "    <tr>\n",
       "      <th>1</th>\n",
       "      <td>Целебные травы</td>\n",
       "      <td>3.90</td>\n",
       "      <td>-0.079689</td>\n",
       "      <td>Анор Лондо</td>\n",
       "      <td>2216-01-02</td>\n",
       "    </tr>\n",
       "    <tr>\n",
       "      <th>2</th>\n",
       "      <td>Целебные травы</td>\n",
       "      <td>3.90</td>\n",
       "      <td>0.882450</td>\n",
       "      <td>Анор Лондо</td>\n",
       "      <td>2216-01-02</td>\n",
       "    </tr>\n",
       "    <tr>\n",
       "      <th>3</th>\n",
       "      <td>Целебные травы</td>\n",
       "      <td>3.90</td>\n",
       "      <td>0.621377</td>\n",
       "      <td>Анор Лондо</td>\n",
       "      <td>2216-01-02</td>\n",
       "    </tr>\n",
       "    <tr>\n",
       "      <th>4</th>\n",
       "      <td>Целебные травы</td>\n",
       "      <td>3.90</td>\n",
       "      <td>1.367161</td>\n",
       "      <td>Анор Лондо</td>\n",
       "      <td>2216-01-02</td>\n",
       "    </tr>\n",
       "    <tr>\n",
       "      <th>...</th>\n",
       "      <td>...</td>\n",
       "      <td>...</td>\n",
       "      <td>...</td>\n",
       "      <td>...</td>\n",
       "      <td>...</td>\n",
       "    </tr>\n",
       "    <tr>\n",
       "      <th>875031</th>\n",
       "      <td>Эстус</td>\n",
       "      <td>9.28</td>\n",
       "      <td>1.079104</td>\n",
       "      <td>Фалькония</td>\n",
       "      <td>2218-09-27</td>\n",
       "    </tr>\n",
       "    <tr>\n",
       "      <th>875032</th>\n",
       "      <td>Эстус</td>\n",
       "      <td>9.28</td>\n",
       "      <td>1.580617</td>\n",
       "      <td>Фалькония</td>\n",
       "      <td>2218-09-27</td>\n",
       "    </tr>\n",
       "    <tr>\n",
       "      <th>875033</th>\n",
       "      <td>Эстус</td>\n",
       "      <td>9.28</td>\n",
       "      <td>1.738492</td>\n",
       "      <td>Фалькония</td>\n",
       "      <td>2218-09-27</td>\n",
       "    </tr>\n",
       "    <tr>\n",
       "      <th>875034</th>\n",
       "      <td>Эстус</td>\n",
       "      <td>9.28</td>\n",
       "      <td>0.430340</td>\n",
       "      <td>Фалькония</td>\n",
       "      <td>2218-09-27</td>\n",
       "    </tr>\n",
       "    <tr>\n",
       "      <th>875035</th>\n",
       "      <td>Эстус</td>\n",
       "      <td>9.28</td>\n",
       "      <td>0.090248</td>\n",
       "      <td>Фалькония</td>\n",
       "      <td>2218-09-27</td>\n",
       "    </tr>\n",
       "  </tbody>\n",
       "</table>\n",
       "<p>875036 rows × 5 columns</p>\n",
       "</div>"
      ],
      "text/plain": [
       "               product  price    amount       place    datetime\n",
       "0       Целебные травы   3.90  1.242125  Анор Лондо  2216-01-02\n",
       "1       Целебные травы   3.90 -0.079689  Анор Лондо  2216-01-02\n",
       "2       Целебные травы   3.90  0.882450  Анор Лондо  2216-01-02\n",
       "3       Целебные травы   3.90  0.621377  Анор Лондо  2216-01-02\n",
       "4       Целебные травы   3.90  1.367161  Анор Лондо  2216-01-02\n",
       "...                ...    ...       ...         ...         ...\n",
       "875031           Эстус   9.28  1.079104   Фалькония  2218-09-27\n",
       "875032           Эстус   9.28  1.580617   Фалькония  2218-09-27\n",
       "875033           Эстус   9.28  1.738492   Фалькония  2218-09-27\n",
       "875034           Эстус   9.28  0.430340   Фалькония  2218-09-27\n",
       "875035           Эстус   9.28  0.090248   Фалькония  2218-09-27\n",
       "\n",
       "[875036 rows x 5 columns]"
      ]
     },
     "execution_count": 7,
     "metadata": {},
     "output_type": "execute_result"
    }
   ],
   "source": [
    "df_transaction"
   ]
  },
  {
   "cell_type": "markdown",
   "id": "a68a7a5c",
   "metadata": {},
   "source": [
    "Для дальнейшей работы устанавливаю дату в качестве индекса"
   ]
  },
  {
   "cell_type": "code",
   "execution_count": 8,
   "id": "5cbf9434",
   "metadata": {},
   "outputs": [],
   "source": [
    "df_transaction=df_transaction.set_index('datetime')"
   ]
  },
  {
   "cell_type": "code",
   "execution_count": 9,
   "id": "47c01a6d",
   "metadata": {
    "scrolled": true
   },
   "outputs": [
    {
     "data": {
      "text/plain": [
       "Index(['product', 'price', 'amount', 'place'], dtype='object')"
      ]
     },
     "execution_count": 9,
     "metadata": {},
     "output_type": "execute_result"
    }
   ],
   "source": [
    "df_transaction.columns"
   ]
  },
  {
   "cell_type": "markdown",
   "id": "03f56127",
   "metadata": {},
   "source": [
    "Проверка таблицы на количество нулевых строк"
   ]
  },
  {
   "cell_type": "code",
   "execution_count": 10,
   "id": "a18e276e",
   "metadata": {},
   "outputs": [
    {
     "data": {
      "text/plain": [
       "product      0\n",
       "price        0\n",
       "amount       0\n",
       "place      432\n",
       "dtype: int64"
      ]
     },
     "execution_count": 10,
     "metadata": {},
     "output_type": "execute_result"
    }
   ],
   "source": [
    "df_transaction.isna().sum()"
   ]
  },
  {
   "cell_type": "markdown",
   "id": "d13c52ec",
   "metadata": {},
   "source": [
    "Как можно заметить, столбец \"place\" имеет нулевые строки. Удаляю их. Так же удаляю дубликаты,если они есть."
   ]
  },
  {
   "cell_type": "code",
   "execution_count": 11,
   "id": "1225c42a",
   "metadata": {},
   "outputs": [],
   "source": [
    "df_transaction=df_transaction.dropna()"
   ]
  },
  {
   "cell_type": "code",
   "execution_count": 12,
   "id": "fde77a57",
   "metadata": {},
   "outputs": [],
   "source": [
    "df_transaction=df_transaction.drop_duplicates()"
   ]
  },
  {
   "cell_type": "code",
   "execution_count": 13,
   "id": "a0e5f260",
   "metadata": {
    "scrolled": false
   },
   "outputs": [
    {
     "data": {
      "text/plain": [
       "(874604, 4)"
      ]
     },
     "execution_count": 13,
     "metadata": {},
     "output_type": "execute_result"
    }
   ],
   "source": [
    "df_transaction.shape"
   ]
  },
  {
   "cell_type": "markdown",
   "id": "e26acbf6",
   "metadata": {},
   "source": [
    "Можно заметить, что данных стало меньше."
   ]
  },
  {
   "cell_type": "markdown",
   "id": "c1336a59",
   "metadata": {},
   "source": [
    "Устанвливаю ограничения на объем и цену товара, они не могут быть отрицательнымы. "
   ]
  },
  {
   "cell_type": "code",
   "execution_count": 14,
   "id": "4eaa1241",
   "metadata": {},
   "outputs": [],
   "source": [
    "df_transaction= df_transaction[(df_transaction['amount'] > 0 ) &(df_transaction['price'] > 0 )]"
   ]
  },
  {
   "cell_type": "code",
   "execution_count": 15,
   "id": "21654df7",
   "metadata": {},
   "outputs": [
    {
     "data": {
      "text/plain": [
       "(655659, 4)"
      ]
     },
     "execution_count": 15,
     "metadata": {},
     "output_type": "execute_result"
    }
   ],
   "source": [
    "df_transaction.shape"
   ]
  },
  {
   "cell_type": "markdown",
   "id": "44a342ae",
   "metadata": {},
   "source": [
    "Так как в столбце повторяются даты и цена. То я группирую данные о транзакции по цене, дате, месту и продукту, а объем продаж суммирую."
   ]
  },
  {
   "cell_type": "code",
   "execution_count": 16,
   "id": "2fab7402",
   "metadata": {},
   "outputs": [],
   "source": [
    "df_trans_group = df_transaction.groupby(['datetime', 'price','product','place']).agg({'amount': ['sum']}).reset_index()"
   ]
  },
  {
   "cell_type": "code",
   "execution_count": 17,
   "id": "cd1da8f2",
   "metadata": {},
   "outputs": [
    {
     "data": {
      "text/html": [
       "<div>\n",
       "<style scoped>\n",
       "    .dataframe tbody tr th:only-of-type {\n",
       "        vertical-align: middle;\n",
       "    }\n",
       "\n",
       "    .dataframe tbody tr th {\n",
       "        vertical-align: top;\n",
       "    }\n",
       "\n",
       "    .dataframe thead tr th {\n",
       "        text-align: left;\n",
       "    }\n",
       "</style>\n",
       "<table border=\"1\" class=\"dataframe\">\n",
       "  <thead>\n",
       "    <tr>\n",
       "      <th></th>\n",
       "      <th>datetime</th>\n",
       "      <th>price</th>\n",
       "      <th>product</th>\n",
       "      <th>place</th>\n",
       "      <th>amount</th>\n",
       "    </tr>\n",
       "    <tr>\n",
       "      <th></th>\n",
       "      <th></th>\n",
       "      <th></th>\n",
       "      <th></th>\n",
       "      <th></th>\n",
       "      <th>sum</th>\n",
       "    </tr>\n",
       "  </thead>\n",
       "  <tbody>\n",
       "    <tr>\n",
       "      <th>0</th>\n",
       "      <td>2216-01-02</td>\n",
       "      <td>2.73</td>\n",
       "      <td>Целебные травы</td>\n",
       "      <td>Нокрон</td>\n",
       "      <td>44.869785</td>\n",
       "    </tr>\n",
       "    <tr>\n",
       "      <th>1</th>\n",
       "      <td>2216-01-02</td>\n",
       "      <td>2.87</td>\n",
       "      <td>Эстус</td>\n",
       "      <td>Нокрон</td>\n",
       "      <td>40.394523</td>\n",
       "    </tr>\n",
       "    <tr>\n",
       "      <th>2</th>\n",
       "      <td>2216-01-02</td>\n",
       "      <td>3.60</td>\n",
       "      <td>Эстус</td>\n",
       "      <td>Анор Лондо</td>\n",
       "      <td>46.831999</td>\n",
       "    </tr>\n",
       "    <tr>\n",
       "      <th>3</th>\n",
       "      <td>2216-01-02</td>\n",
       "      <td>3.69</td>\n",
       "      <td>Целебные травы</td>\n",
       "      <td>Кеджистан</td>\n",
       "      <td>52.348454</td>\n",
       "    </tr>\n",
       "    <tr>\n",
       "      <th>4</th>\n",
       "      <td>2216-01-02</td>\n",
       "      <td>3.90</td>\n",
       "      <td>Целебные травы</td>\n",
       "      <td>Анор Лондо</td>\n",
       "      <td>37.802874</td>\n",
       "    </tr>\n",
       "    <tr>\n",
       "      <th>...</th>\n",
       "      <td>...</td>\n",
       "      <td>...</td>\n",
       "      <td>...</td>\n",
       "      <td>...</td>\n",
       "      <td>...</td>\n",
       "    </tr>\n",
       "    <tr>\n",
       "      <th>15015</th>\n",
       "      <td>2218-09-27</td>\n",
       "      <td>19.09</td>\n",
       "      <td>Целебные травы</td>\n",
       "      <td>Кеджистан</td>\n",
       "      <td>43.524190</td>\n",
       "    </tr>\n",
       "    <tr>\n",
       "      <th>15016</th>\n",
       "      <td>2218-09-27</td>\n",
       "      <td>20.33</td>\n",
       "      <td>Эстус</td>\n",
       "      <td>Врата Балдура</td>\n",
       "      <td>25.646198</td>\n",
       "    </tr>\n",
       "    <tr>\n",
       "      <th>15017</th>\n",
       "      <td>2218-09-27</td>\n",
       "      <td>24.42</td>\n",
       "      <td>Эстус</td>\n",
       "      <td>Кеджистан</td>\n",
       "      <td>45.163825</td>\n",
       "    </tr>\n",
       "    <tr>\n",
       "      <th>15018</th>\n",
       "      <td>2218-09-27</td>\n",
       "      <td>27.47</td>\n",
       "      <td>Эльфийская пыльца</td>\n",
       "      <td>Врата Балдура</td>\n",
       "      <td>26.922775</td>\n",
       "    </tr>\n",
       "    <tr>\n",
       "      <th>15019</th>\n",
       "      <td>2218-09-27</td>\n",
       "      <td>31.20</td>\n",
       "      <td>Эльфийская пыльца</td>\n",
       "      <td>Кеджистан</td>\n",
       "      <td>47.893352</td>\n",
       "    </tr>\n",
       "  </tbody>\n",
       "</table>\n",
       "<p>15020 rows × 5 columns</p>\n",
       "</div>"
      ],
      "text/plain": [
       "         datetime  price            product          place     amount\n",
       "                                                                  sum\n",
       "0      2216-01-02   2.73     Целебные травы         Нокрон  44.869785\n",
       "1      2216-01-02   2.87              Эстус         Нокрон  40.394523\n",
       "2      2216-01-02   3.60              Эстус     Анор Лондо  46.831999\n",
       "3      2216-01-02   3.69     Целебные травы      Кеджистан  52.348454\n",
       "4      2216-01-02   3.90     Целебные травы     Анор Лондо  37.802874\n",
       "...           ...    ...                ...            ...        ...\n",
       "15015  2218-09-27  19.09     Целебные травы      Кеджистан  43.524190\n",
       "15016  2218-09-27  20.33              Эстус  Врата Балдура  25.646198\n",
       "15017  2218-09-27  24.42              Эстус      Кеджистан  45.163825\n",
       "15018  2218-09-27  27.47  Эльфийская пыльца  Врата Балдура  26.922775\n",
       "15019  2218-09-27  31.20  Эльфийская пыльца      Кеджистан  47.893352\n",
       "\n",
       "[15020 rows x 5 columns]"
      ]
     },
     "execution_count": 17,
     "metadata": {},
     "output_type": "execute_result"
    }
   ],
   "source": [
    "df_trans_group "
   ]
  },
  {
   "cell_type": "markdown",
   "id": "b24614cb",
   "metadata": {},
   "source": [
    "Получившая таблица имеет 15020 строк. Содержит данные цен продуктов в рзаных городах по дням"
   ]
  },
  {
   "cell_type": "markdown",
   "id": "8d0367d1",
   "metadata": {},
   "source": [
    "Идея: создать датафрейм, где по одному продукту в один день с одинаковой ценой, объеденины объемы"
   ]
  },
  {
   "cell_type": "markdown",
   "id": "f0b40f8a",
   "metadata": {},
   "source": [
    "Проверяю, чтобы дата в сгруппированном фрейме имела нужный формат и устанавливаю дату индексом."
   ]
  },
  {
   "cell_type": "code",
   "execution_count": 18,
   "id": "25be4d8d",
   "metadata": {},
   "outputs": [
    {
     "data": {
      "text/plain": [
       "datetime         datetime64[ns]\n",
       "price                   float64\n",
       "product                  object\n",
       "place                    object\n",
       "amount    sum           float64\n",
       "dtype: object"
      ]
     },
     "execution_count": 18,
     "metadata": {},
     "output_type": "execute_result"
    }
   ],
   "source": [
    "df_trans_group ['datetime'] = pd.to_datetime(df_trans_group ['datetime'])\n",
    "df_trans_group.dtypes"
   ]
  },
  {
   "cell_type": "code",
   "execution_count": 19,
   "id": "8f686398",
   "metadata": {},
   "outputs": [],
   "source": [
    "df_trans_group =df_trans_group.set_index('datetime')"
   ]
  },
  {
   "cell_type": "code",
   "execution_count": 20,
   "id": "ea39d9d5",
   "metadata": {},
   "outputs": [
    {
     "data": {
      "text/plain": [
       "Timestamp('2216-01-02 00:00:00')"
      ]
     },
     "execution_count": 20,
     "metadata": {},
     "output_type": "execute_result"
    }
   ],
   "source": [
    "df_trans_group .index.min()"
   ]
  },
  {
   "cell_type": "code",
   "execution_count": 21,
   "id": "5af295be",
   "metadata": {},
   "outputs": [
    {
     "data": {
      "text/plain": [
       "Timestamp('2218-09-27 00:00:00')"
      ]
     },
     "execution_count": 21,
     "metadata": {},
     "output_type": "execute_result"
    }
   ],
   "source": [
    "df_trans_group.index.max()"
   ]
  },
  {
   "cell_type": "markdown",
   "id": "ae466f62",
   "metadata": {},
   "source": [
    "Данные с продажи представлены в период с 02.01.2216 по 27.09.2218, т.е. за 2 года 8 месяцев 25 дней."
   ]
  },
  {
   "cell_type": "markdown",
   "id": "31e3c9e1",
   "metadata": {},
   "source": [
    "#### Анализ данных конкурентов"
   ]
  },
  {
   "cell_type": "code",
   "execution_count": 22,
   "id": "683b2afd",
   "metadata": {},
   "outputs": [
    {
     "data": {
      "text/html": [
       "<div>\n",
       "<style scoped>\n",
       "    .dataframe tbody tr th:only-of-type {\n",
       "        vertical-align: middle;\n",
       "    }\n",
       "\n",
       "    .dataframe tbody tr th {\n",
       "        vertical-align: top;\n",
       "    }\n",
       "\n",
       "    .dataframe thead th {\n",
       "        text-align: right;\n",
       "    }\n",
       "</style>\n",
       "<table border=\"1\" class=\"dataframe\">\n",
       "  <thead>\n",
       "    <tr style=\"text-align: right;\">\n",
       "      <th></th>\n",
       "      <th>place</th>\n",
       "      <th>product</th>\n",
       "      <th>competitor</th>\n",
       "      <th>price</th>\n",
       "      <th>date</th>\n",
       "    </tr>\n",
       "  </thead>\n",
       "  <tbody>\n",
       "    <tr>\n",
       "      <th>0</th>\n",
       "      <td>Анор Лондо</td>\n",
       "      <td>Целебные травы</td>\n",
       "      <td>Арториас&amp;Co</td>\n",
       "      <td>3.78</td>\n",
       "      <td>2216-01-04</td>\n",
       "    </tr>\n",
       "    <tr>\n",
       "      <th>1</th>\n",
       "      <td>Анор Лондо</td>\n",
       "      <td>Целебные травы</td>\n",
       "      <td>Арториас&amp;Co</td>\n",
       "      <td>3.78</td>\n",
       "      <td>2216-01-05</td>\n",
       "    </tr>\n",
       "    <tr>\n",
       "      <th>2</th>\n",
       "      <td>Анор Лондо</td>\n",
       "      <td>Целебные травы</td>\n",
       "      <td>Арториас&amp;Co</td>\n",
       "      <td>3.78</td>\n",
       "      <td>2216-01-06</td>\n",
       "    </tr>\n",
       "    <tr>\n",
       "      <th>3</th>\n",
       "      <td>Анор Лондо</td>\n",
       "      <td>Целебные травы</td>\n",
       "      <td>Арториас&amp;Co</td>\n",
       "      <td>3.78</td>\n",
       "      <td>2216-01-09</td>\n",
       "    </tr>\n",
       "    <tr>\n",
       "      <th>5</th>\n",
       "      <td>Анор Лондо</td>\n",
       "      <td>Целебные травы</td>\n",
       "      <td>Арториас&amp;Co</td>\n",
       "      <td>3.78</td>\n",
       "      <td>2216-01-11</td>\n",
       "    </tr>\n",
       "    <tr>\n",
       "      <th>...</th>\n",
       "      <td>...</td>\n",
       "      <td>...</td>\n",
       "      <td>...</td>\n",
       "      <td>...</td>\n",
       "      <td>...</td>\n",
       "    </tr>\n",
       "    <tr>\n",
       "      <th>39451</th>\n",
       "      <td>Фалькония</td>\n",
       "      <td>Эстус</td>\n",
       "      <td>Светлые Души</td>\n",
       "      <td>14.99</td>\n",
       "      <td>2218-09-17</td>\n",
       "    </tr>\n",
       "    <tr>\n",
       "      <th>39453</th>\n",
       "      <td>Фалькония</td>\n",
       "      <td>Эстус</td>\n",
       "      <td>Светлые Души</td>\n",
       "      <td>15.36</td>\n",
       "      <td>2218-09-20</td>\n",
       "    </tr>\n",
       "    <tr>\n",
       "      <th>39454</th>\n",
       "      <td>Фалькония</td>\n",
       "      <td>Эстус</td>\n",
       "      <td>Светлые Души</td>\n",
       "      <td>15.36</td>\n",
       "      <td>2218-09-22</td>\n",
       "    </tr>\n",
       "    <tr>\n",
       "      <th>39455</th>\n",
       "      <td>Фалькония</td>\n",
       "      <td>Эстус</td>\n",
       "      <td>Светлые Души</td>\n",
       "      <td>15.36</td>\n",
       "      <td>2218-09-23</td>\n",
       "    </tr>\n",
       "    <tr>\n",
       "      <th>39456</th>\n",
       "      <td>Фалькония</td>\n",
       "      <td>Эстус</td>\n",
       "      <td>Светлые Души</td>\n",
       "      <td>15.36</td>\n",
       "      <td>2218-09-24</td>\n",
       "    </tr>\n",
       "  </tbody>\n",
       "</table>\n",
       "<p>31799 rows × 5 columns</p>\n",
       "</div>"
      ],
      "text/plain": [
       "            place         product    competitor  price       date\n",
       "0      Анор Лондо  Целебные травы   Арториас&Co   3.78 2216-01-04\n",
       "1      Анор Лондо  Целебные травы   Арториас&Co   3.78 2216-01-05\n",
       "2      Анор Лондо  Целебные травы   Арториас&Co   3.78 2216-01-06\n",
       "3      Анор Лондо  Целебные травы   Арториас&Co   3.78 2216-01-09\n",
       "5      Анор Лондо  Целебные травы   Арториас&Co   3.78 2216-01-11\n",
       "...           ...             ...           ...    ...        ...\n",
       "39451   Фалькония           Эстус  Светлые Души  14.99 2218-09-17\n",
       "39453   Фалькония           Эстус  Светлые Души  15.36 2218-09-20\n",
       "39454   Фалькония           Эстус  Светлые Души  15.36 2218-09-22\n",
       "39455   Фалькония           Эстус  Светлые Души  15.36 2218-09-23\n",
       "39456   Фалькония           Эстус  Светлые Души  15.36 2218-09-24\n",
       "\n",
       "[31799 rows x 5 columns]"
      ]
     },
     "execution_count": 22,
     "metadata": {},
     "output_type": "execute_result"
    }
   ],
   "source": [
    "df_competitors"
   ]
  },
  {
   "cell_type": "code",
   "execution_count": 23,
   "id": "b062e446",
   "metadata": {},
   "outputs": [
    {
     "data": {
      "text/plain": [
       "place                 object\n",
       "product               object\n",
       "competitor            object\n",
       "price                float64\n",
       "date          datetime64[ns]\n",
       "dtype: object"
      ]
     },
     "execution_count": 23,
     "metadata": {},
     "output_type": "execute_result"
    }
   ],
   "source": [
    "df_competitors.dtypes"
   ]
  },
  {
   "cell_type": "markdown",
   "id": "1d8392fa",
   "metadata": {},
   "source": [
    "Проверяю количество нулевых данных"
   ]
  },
  {
   "cell_type": "code",
   "execution_count": 24,
   "id": "60c9e523",
   "metadata": {},
   "outputs": [
    {
     "data": {
      "text/plain": [
       "place         0\n",
       "product       0\n",
       "competitor    0\n",
       "price         0\n",
       "date          0\n",
       "dtype: int64"
      ]
     },
     "execution_count": 24,
     "metadata": {},
     "output_type": "execute_result"
    }
   ],
   "source": [
    "df_competitors.isna().sum()"
   ]
  },
  {
   "cell_type": "markdown",
   "id": "aafcf103",
   "metadata": {},
   "source": [
    "Как можно заметить нулевые данные отсутствуют "
   ]
  },
  {
   "cell_type": "code",
   "execution_count": 25,
   "id": "2927e1f7",
   "metadata": {},
   "outputs": [
    {
     "data": {
      "text/plain": [
       "array(['Арториас&Co', 'Длань господня', 'ЛилIT', 'Светлые Души'],\n",
       "      dtype=object)"
      ]
     },
     "execution_count": 25,
     "metadata": {},
     "output_type": "execute_result"
    }
   ],
   "source": [
    "df_competitors['competitor'].unique()"
   ]
  },
  {
   "cell_type": "markdown",
   "id": "1f1e262c",
   "metadata": {},
   "source": [
    "Переименовываю столбец с ценой и добавляю его и названия конкурентов по совппадающей дате в таблицу с транзакцией"
   ]
  },
  {
   "cell_type": "code",
   "execution_count": 26,
   "id": "b277744c",
   "metadata": {},
   "outputs": [],
   "source": [
    "df_competitors=df_competitors.rename(columns={'price':'compet_price','date':'datetime'})"
   ]
  },
  {
   "cell_type": "code",
   "execution_count": 27,
   "id": "78008673",
   "metadata": {},
   "outputs": [
    {
     "data": {
      "text/html": [
       "<div>\n",
       "<style scoped>\n",
       "    .dataframe tbody tr th:only-of-type {\n",
       "        vertical-align: middle;\n",
       "    }\n",
       "\n",
       "    .dataframe tbody tr th {\n",
       "        vertical-align: top;\n",
       "    }\n",
       "\n",
       "    .dataframe thead th {\n",
       "        text-align: right;\n",
       "    }\n",
       "</style>\n",
       "<table border=\"1\" class=\"dataframe\">\n",
       "  <thead>\n",
       "    <tr style=\"text-align: right;\">\n",
       "      <th></th>\n",
       "      <th>place</th>\n",
       "      <th>product</th>\n",
       "      <th>competitor</th>\n",
       "      <th>compet_price</th>\n",
       "      <th>datetime</th>\n",
       "    </tr>\n",
       "  </thead>\n",
       "  <tbody>\n",
       "    <tr>\n",
       "      <th>0</th>\n",
       "      <td>Анор Лондо</td>\n",
       "      <td>Целебные травы</td>\n",
       "      <td>Арториас&amp;Co</td>\n",
       "      <td>3.78</td>\n",
       "      <td>2216-01-04</td>\n",
       "    </tr>\n",
       "    <tr>\n",
       "      <th>1</th>\n",
       "      <td>Анор Лондо</td>\n",
       "      <td>Целебные травы</td>\n",
       "      <td>Арториас&amp;Co</td>\n",
       "      <td>3.78</td>\n",
       "      <td>2216-01-05</td>\n",
       "    </tr>\n",
       "    <tr>\n",
       "      <th>2</th>\n",
       "      <td>Анор Лондо</td>\n",
       "      <td>Целебные травы</td>\n",
       "      <td>Арториас&amp;Co</td>\n",
       "      <td>3.78</td>\n",
       "      <td>2216-01-06</td>\n",
       "    </tr>\n",
       "    <tr>\n",
       "      <th>3</th>\n",
       "      <td>Анор Лондо</td>\n",
       "      <td>Целебные травы</td>\n",
       "      <td>Арториас&amp;Co</td>\n",
       "      <td>3.78</td>\n",
       "      <td>2216-01-09</td>\n",
       "    </tr>\n",
       "    <tr>\n",
       "      <th>5</th>\n",
       "      <td>Анор Лондо</td>\n",
       "      <td>Целебные травы</td>\n",
       "      <td>Арториас&amp;Co</td>\n",
       "      <td>3.78</td>\n",
       "      <td>2216-01-11</td>\n",
       "    </tr>\n",
       "    <tr>\n",
       "      <th>...</th>\n",
       "      <td>...</td>\n",
       "      <td>...</td>\n",
       "      <td>...</td>\n",
       "      <td>...</td>\n",
       "      <td>...</td>\n",
       "    </tr>\n",
       "    <tr>\n",
       "      <th>39451</th>\n",
       "      <td>Фалькония</td>\n",
       "      <td>Эстус</td>\n",
       "      <td>Светлые Души</td>\n",
       "      <td>14.99</td>\n",
       "      <td>2218-09-17</td>\n",
       "    </tr>\n",
       "    <tr>\n",
       "      <th>39453</th>\n",
       "      <td>Фалькония</td>\n",
       "      <td>Эстус</td>\n",
       "      <td>Светлые Души</td>\n",
       "      <td>15.36</td>\n",
       "      <td>2218-09-20</td>\n",
       "    </tr>\n",
       "    <tr>\n",
       "      <th>39454</th>\n",
       "      <td>Фалькония</td>\n",
       "      <td>Эстус</td>\n",
       "      <td>Светлые Души</td>\n",
       "      <td>15.36</td>\n",
       "      <td>2218-09-22</td>\n",
       "    </tr>\n",
       "    <tr>\n",
       "      <th>39455</th>\n",
       "      <td>Фалькония</td>\n",
       "      <td>Эстус</td>\n",
       "      <td>Светлые Души</td>\n",
       "      <td>15.36</td>\n",
       "      <td>2218-09-23</td>\n",
       "    </tr>\n",
       "    <tr>\n",
       "      <th>39456</th>\n",
       "      <td>Фалькония</td>\n",
       "      <td>Эстус</td>\n",
       "      <td>Светлые Души</td>\n",
       "      <td>15.36</td>\n",
       "      <td>2218-09-24</td>\n",
       "    </tr>\n",
       "  </tbody>\n",
       "</table>\n",
       "<p>31799 rows × 5 columns</p>\n",
       "</div>"
      ],
      "text/plain": [
       "            place         product    competitor  compet_price   datetime\n",
       "0      Анор Лондо  Целебные травы   Арториас&Co          3.78 2216-01-04\n",
       "1      Анор Лондо  Целебные травы   Арториас&Co          3.78 2216-01-05\n",
       "2      Анор Лондо  Целебные травы   Арториас&Co          3.78 2216-01-06\n",
       "3      Анор Лондо  Целебные травы   Арториас&Co          3.78 2216-01-09\n",
       "5      Анор Лондо  Целебные травы   Арториас&Co          3.78 2216-01-11\n",
       "...           ...             ...           ...           ...        ...\n",
       "39451   Фалькония           Эстус  Светлые Души         14.99 2218-09-17\n",
       "39453   Фалькония           Эстус  Светлые Души         15.36 2218-09-20\n",
       "39454   Фалькония           Эстус  Светлые Души         15.36 2218-09-22\n",
       "39455   Фалькония           Эстус  Светлые Души         15.36 2218-09-23\n",
       "39456   Фалькония           Эстус  Светлые Души         15.36 2218-09-24\n",
       "\n",
       "[31799 rows x 5 columns]"
      ]
     },
     "execution_count": 27,
     "metadata": {},
     "output_type": "execute_result"
    }
   ],
   "source": [
    "df_competitors"
   ]
  },
  {
   "cell_type": "code",
   "execution_count": 28,
   "id": "9bd9467a",
   "metadata": {
    "scrolled": true
   },
   "outputs": [
    {
     "name": "stderr",
     "output_type": "stream",
     "text": [
      "C:\\Users\\Аня\\AppData\\Local\\Temp\\ipykernel_10900\\2377143311.py:1: FutureWarning: merging between different levels is deprecated and will be removed in a future version. (2 levels on the left, 1 on the right)\n",
      "  df_new = df_trans_group.merge(df_competitors, on=['datetime','product','place']).set_index('datetime')\n"
     ]
    }
   ],
   "source": [
    "df_new = df_trans_group.merge(df_competitors, on=['datetime','product','place']).set_index('datetime')"
   ]
  },
  {
   "cell_type": "code",
   "execution_count": 29,
   "id": "e5bcc1e9",
   "metadata": {},
   "outputs": [
    {
     "data": {
      "text/html": [
       "<div>\n",
       "<style scoped>\n",
       "    .dataframe tbody tr th:only-of-type {\n",
       "        vertical-align: middle;\n",
       "    }\n",
       "\n",
       "    .dataframe tbody tr th {\n",
       "        vertical-align: top;\n",
       "    }\n",
       "\n",
       "    .dataframe thead th {\n",
       "        text-align: right;\n",
       "    }\n",
       "</style>\n",
       "<table border=\"1\" class=\"dataframe\">\n",
       "  <thead>\n",
       "    <tr style=\"text-align: right;\">\n",
       "      <th></th>\n",
       "      <th>product</th>\n",
       "      <th>place</th>\n",
       "      <th>(price, )</th>\n",
       "      <th>(product, )</th>\n",
       "      <th>(place, )</th>\n",
       "      <th>(amount, sum)</th>\n",
       "      <th>competitor</th>\n",
       "      <th>compet_price</th>\n",
       "    </tr>\n",
       "    <tr>\n",
       "      <th>datetime</th>\n",
       "      <th></th>\n",
       "      <th></th>\n",
       "      <th></th>\n",
       "      <th></th>\n",
       "      <th></th>\n",
       "      <th></th>\n",
       "      <th></th>\n",
       "      <th></th>\n",
       "    </tr>\n",
       "  </thead>\n",
       "  <tbody>\n",
       "    <tr>\n",
       "      <th>2216-01-02</th>\n",
       "      <td>Целебные травы</td>\n",
       "      <td>Нокрон</td>\n",
       "      <td>2.73</td>\n",
       "      <td>Целебные травы</td>\n",
       "      <td>Нокрон</td>\n",
       "      <td>44.869785</td>\n",
       "      <td>Арториас&amp;Co</td>\n",
       "      <td>3.04</td>\n",
       "    </tr>\n",
       "    <tr>\n",
       "      <th>2216-01-02</th>\n",
       "      <td>Целебные травы</td>\n",
       "      <td>Нокрон</td>\n",
       "      <td>2.73</td>\n",
       "      <td>Целебные травы</td>\n",
       "      <td>Нокрон</td>\n",
       "      <td>44.869785</td>\n",
       "      <td>Длань господня</td>\n",
       "      <td>3.03</td>\n",
       "    </tr>\n",
       "    <tr>\n",
       "      <th>2216-01-02</th>\n",
       "      <td>Целебные травы</td>\n",
       "      <td>Нокрон</td>\n",
       "      <td>2.73</td>\n",
       "      <td>Целебные травы</td>\n",
       "      <td>Нокрон</td>\n",
       "      <td>44.869785</td>\n",
       "      <td>ЛилIT</td>\n",
       "      <td>3.07</td>\n",
       "    </tr>\n",
       "    <tr>\n",
       "      <th>2216-01-02</th>\n",
       "      <td>Эстус</td>\n",
       "      <td>Нокрон</td>\n",
       "      <td>2.87</td>\n",
       "      <td>Эстус</td>\n",
       "      <td>Нокрон</td>\n",
       "      <td>40.394523</td>\n",
       "      <td>Арториас&amp;Co</td>\n",
       "      <td>2.86</td>\n",
       "    </tr>\n",
       "    <tr>\n",
       "      <th>2216-01-02</th>\n",
       "      <td>Эстус</td>\n",
       "      <td>Нокрон</td>\n",
       "      <td>2.87</td>\n",
       "      <td>Эстус</td>\n",
       "      <td>Нокрон</td>\n",
       "      <td>40.394523</td>\n",
       "      <td>ЛилIT</td>\n",
       "      <td>3.09</td>\n",
       "    </tr>\n",
       "    <tr>\n",
       "      <th>...</th>\n",
       "      <td>...</td>\n",
       "      <td>...</td>\n",
       "      <td>...</td>\n",
       "      <td>...</td>\n",
       "      <td>...</td>\n",
       "      <td>...</td>\n",
       "      <td>...</td>\n",
       "      <td>...</td>\n",
       "    </tr>\n",
       "    <tr>\n",
       "      <th>2218-09-27</th>\n",
       "      <td>Эльфийская пыльца</td>\n",
       "      <td>Врата Балдура</td>\n",
       "      <td>27.47</td>\n",
       "      <td>Эльфийская пыльца</td>\n",
       "      <td>Врата Балдура</td>\n",
       "      <td>26.922775</td>\n",
       "      <td>Длань господня</td>\n",
       "      <td>25.93</td>\n",
       "    </tr>\n",
       "    <tr>\n",
       "      <th>2218-09-27</th>\n",
       "      <td>Эльфийская пыльца</td>\n",
       "      <td>Врата Балдура</td>\n",
       "      <td>27.47</td>\n",
       "      <td>Эльфийская пыльца</td>\n",
       "      <td>Врата Балдура</td>\n",
       "      <td>26.922775</td>\n",
       "      <td>ЛилIT</td>\n",
       "      <td>27.49</td>\n",
       "    </tr>\n",
       "    <tr>\n",
       "      <th>2218-09-27</th>\n",
       "      <td>Эльфийская пыльца</td>\n",
       "      <td>Врата Балдура</td>\n",
       "      <td>27.47</td>\n",
       "      <td>Эльфийская пыльца</td>\n",
       "      <td>Врата Балдура</td>\n",
       "      <td>26.922775</td>\n",
       "      <td>Светлые Души</td>\n",
       "      <td>24.63</td>\n",
       "    </tr>\n",
       "    <tr>\n",
       "      <th>2218-09-27</th>\n",
       "      <td>Эльфийская пыльца</td>\n",
       "      <td>Кеджистан</td>\n",
       "      <td>31.20</td>\n",
       "      <td>Эльфийская пыльца</td>\n",
       "      <td>Кеджистан</td>\n",
       "      <td>47.893352</td>\n",
       "      <td>Длань господня</td>\n",
       "      <td>31.13</td>\n",
       "    </tr>\n",
       "    <tr>\n",
       "      <th>2218-09-27</th>\n",
       "      <td>Эльфийская пыльца</td>\n",
       "      <td>Кеджистан</td>\n",
       "      <td>31.20</td>\n",
       "      <td>Эльфийская пыльца</td>\n",
       "      <td>Кеджистан</td>\n",
       "      <td>47.893352</td>\n",
       "      <td>Светлые Души</td>\n",
       "      <td>31.81</td>\n",
       "    </tr>\n",
       "  </tbody>\n",
       "</table>\n",
       "<p>31844 rows × 8 columns</p>\n",
       "</div>"
      ],
      "text/plain": [
       "                      product          place  (price, )        (product, )  \\\n",
       "datetime                                                                     \n",
       "2216-01-02     Целебные травы         Нокрон       2.73     Целебные травы   \n",
       "2216-01-02     Целебные травы         Нокрон       2.73     Целебные травы   \n",
       "2216-01-02     Целебные травы         Нокрон       2.73     Целебные травы   \n",
       "2216-01-02              Эстус         Нокрон       2.87              Эстус   \n",
       "2216-01-02              Эстус         Нокрон       2.87              Эстус   \n",
       "...                       ...            ...        ...                ...   \n",
       "2218-09-27  Эльфийская пыльца  Врата Балдура      27.47  Эльфийская пыльца   \n",
       "2218-09-27  Эльфийская пыльца  Врата Балдура      27.47  Эльфийская пыльца   \n",
       "2218-09-27  Эльфийская пыльца  Врата Балдура      27.47  Эльфийская пыльца   \n",
       "2218-09-27  Эльфийская пыльца      Кеджистан      31.20  Эльфийская пыльца   \n",
       "2218-09-27  Эльфийская пыльца      Кеджистан      31.20  Эльфийская пыльца   \n",
       "\n",
       "                (place, )  (amount, sum)      competitor  compet_price  \n",
       "datetime                                                                \n",
       "2216-01-02         Нокрон      44.869785     Арториас&Co          3.04  \n",
       "2216-01-02         Нокрон      44.869785  Длань господня          3.03  \n",
       "2216-01-02         Нокрон      44.869785           ЛилIT          3.07  \n",
       "2216-01-02         Нокрон      40.394523     Арториас&Co          2.86  \n",
       "2216-01-02         Нокрон      40.394523           ЛилIT          3.09  \n",
       "...                   ...            ...             ...           ...  \n",
       "2218-09-27  Врата Балдура      26.922775  Длань господня         25.93  \n",
       "2218-09-27  Врата Балдура      26.922775           ЛилIT         27.49  \n",
       "2218-09-27  Врата Балдура      26.922775    Светлые Души         24.63  \n",
       "2218-09-27      Кеджистан      47.893352  Длань господня         31.13  \n",
       "2218-09-27      Кеджистан      47.893352    Светлые Души         31.81  \n",
       "\n",
       "[31844 rows x 8 columns]"
      ]
     },
     "execution_count": 29,
     "metadata": {},
     "output_type": "execute_result"
    }
   ],
   "source": [
    "df_new"
   ]
  },
  {
   "cell_type": "markdown",
   "id": "d5cc53c2",
   "metadata": {},
   "source": [
    "Проверяю новый датафрейм на наличие нулевых значений"
   ]
  },
  {
   "cell_type": "code",
   "execution_count": 30,
   "id": "739f8616",
   "metadata": {},
   "outputs": [
    {
     "data": {
      "text/plain": [
       "product          0\n",
       "place            0\n",
       "(price, )        0\n",
       "(product, )      0\n",
       "(place, )        0\n",
       "(amount, sum)    0\n",
       "competitor       0\n",
       "compet_price     0\n",
       "dtype: int64"
      ]
     },
     "execution_count": 30,
     "metadata": {},
     "output_type": "execute_result"
    }
   ],
   "source": [
    "df_new.isnull().sum()"
   ]
  },
  {
   "cell_type": "markdown",
   "id": "3436bfaf",
   "metadata": {},
   "source": [
    "Можно заметить, что есть повторяющиеся столбцы: \"product\",\"place\". Удаляю их"
   ]
  },
  {
   "cell_type": "code",
   "execution_count": 31,
   "id": "1677d230",
   "metadata": {},
   "outputs": [
    {
     "data": {
      "text/plain": [
       "Index([        'product',           'place',     ('price', ''),\n",
       "         ('product', ''),     ('place', ''), ('amount', 'sum'),\n",
       "            'competitor',    'compet_price'],\n",
       "      dtype='object')"
      ]
     },
     "execution_count": 31,
     "metadata": {},
     "output_type": "execute_result"
    }
   ],
   "source": [
    "df_new.columns"
   ]
  },
  {
   "cell_type": "code",
   "execution_count": 32,
   "id": "13b1d6b1",
   "metadata": {},
   "outputs": [],
   "source": [
    "cols = [3, 4] \n",
    "df_new.drop(df_new.columns [cols], axis= 1 , inplace= True )"
   ]
  },
  {
   "cell_type": "code",
   "execution_count": 33,
   "id": "b02f86dc",
   "metadata": {},
   "outputs": [
    {
     "data": {
      "text/html": [
       "<div>\n",
       "<style scoped>\n",
       "    .dataframe tbody tr th:only-of-type {\n",
       "        vertical-align: middle;\n",
       "    }\n",
       "\n",
       "    .dataframe tbody tr th {\n",
       "        vertical-align: top;\n",
       "    }\n",
       "\n",
       "    .dataframe thead th {\n",
       "        text-align: right;\n",
       "    }\n",
       "</style>\n",
       "<table border=\"1\" class=\"dataframe\">\n",
       "  <thead>\n",
       "    <tr style=\"text-align: right;\">\n",
       "      <th></th>\n",
       "      <th>product</th>\n",
       "      <th>place</th>\n",
       "      <th>(price, )</th>\n",
       "      <th>(amount, sum)</th>\n",
       "      <th>competitor</th>\n",
       "      <th>compet_price</th>\n",
       "    </tr>\n",
       "    <tr>\n",
       "      <th>datetime</th>\n",
       "      <th></th>\n",
       "      <th></th>\n",
       "      <th></th>\n",
       "      <th></th>\n",
       "      <th></th>\n",
       "      <th></th>\n",
       "    </tr>\n",
       "  </thead>\n",
       "  <tbody>\n",
       "    <tr>\n",
       "      <th>2216-01-02</th>\n",
       "      <td>Целебные травы</td>\n",
       "      <td>Нокрон</td>\n",
       "      <td>2.73</td>\n",
       "      <td>44.869785</td>\n",
       "      <td>Арториас&amp;Co</td>\n",
       "      <td>3.04</td>\n",
       "    </tr>\n",
       "    <tr>\n",
       "      <th>2216-01-02</th>\n",
       "      <td>Целебные травы</td>\n",
       "      <td>Нокрон</td>\n",
       "      <td>2.73</td>\n",
       "      <td>44.869785</td>\n",
       "      <td>Длань господня</td>\n",
       "      <td>3.03</td>\n",
       "    </tr>\n",
       "    <tr>\n",
       "      <th>2216-01-02</th>\n",
       "      <td>Целебные травы</td>\n",
       "      <td>Нокрон</td>\n",
       "      <td>2.73</td>\n",
       "      <td>44.869785</td>\n",
       "      <td>ЛилIT</td>\n",
       "      <td>3.07</td>\n",
       "    </tr>\n",
       "    <tr>\n",
       "      <th>2216-01-02</th>\n",
       "      <td>Эстус</td>\n",
       "      <td>Нокрон</td>\n",
       "      <td>2.87</td>\n",
       "      <td>40.394523</td>\n",
       "      <td>Арториас&amp;Co</td>\n",
       "      <td>2.86</td>\n",
       "    </tr>\n",
       "    <tr>\n",
       "      <th>2216-01-02</th>\n",
       "      <td>Эстус</td>\n",
       "      <td>Нокрон</td>\n",
       "      <td>2.87</td>\n",
       "      <td>40.394523</td>\n",
       "      <td>ЛилIT</td>\n",
       "      <td>3.09</td>\n",
       "    </tr>\n",
       "    <tr>\n",
       "      <th>...</th>\n",
       "      <td>...</td>\n",
       "      <td>...</td>\n",
       "      <td>...</td>\n",
       "      <td>...</td>\n",
       "      <td>...</td>\n",
       "      <td>...</td>\n",
       "    </tr>\n",
       "    <tr>\n",
       "      <th>2218-09-27</th>\n",
       "      <td>Эльфийская пыльца</td>\n",
       "      <td>Врата Балдура</td>\n",
       "      <td>27.47</td>\n",
       "      <td>26.922775</td>\n",
       "      <td>Длань господня</td>\n",
       "      <td>25.93</td>\n",
       "    </tr>\n",
       "    <tr>\n",
       "      <th>2218-09-27</th>\n",
       "      <td>Эльфийская пыльца</td>\n",
       "      <td>Врата Балдура</td>\n",
       "      <td>27.47</td>\n",
       "      <td>26.922775</td>\n",
       "      <td>ЛилIT</td>\n",
       "      <td>27.49</td>\n",
       "    </tr>\n",
       "    <tr>\n",
       "      <th>2218-09-27</th>\n",
       "      <td>Эльфийская пыльца</td>\n",
       "      <td>Врата Балдура</td>\n",
       "      <td>27.47</td>\n",
       "      <td>26.922775</td>\n",
       "      <td>Светлые Души</td>\n",
       "      <td>24.63</td>\n",
       "    </tr>\n",
       "    <tr>\n",
       "      <th>2218-09-27</th>\n",
       "      <td>Эльфийская пыльца</td>\n",
       "      <td>Кеджистан</td>\n",
       "      <td>31.20</td>\n",
       "      <td>47.893352</td>\n",
       "      <td>Длань господня</td>\n",
       "      <td>31.13</td>\n",
       "    </tr>\n",
       "    <tr>\n",
       "      <th>2218-09-27</th>\n",
       "      <td>Эльфийская пыльца</td>\n",
       "      <td>Кеджистан</td>\n",
       "      <td>31.20</td>\n",
       "      <td>47.893352</td>\n",
       "      <td>Светлые Души</td>\n",
       "      <td>31.81</td>\n",
       "    </tr>\n",
       "  </tbody>\n",
       "</table>\n",
       "<p>31844 rows × 6 columns</p>\n",
       "</div>"
      ],
      "text/plain": [
       "                      product          place  (price, )  (amount, sum)  \\\n",
       "datetime                                                                 \n",
       "2216-01-02     Целебные травы         Нокрон       2.73      44.869785   \n",
       "2216-01-02     Целебные травы         Нокрон       2.73      44.869785   \n",
       "2216-01-02     Целебные травы         Нокрон       2.73      44.869785   \n",
       "2216-01-02              Эстус         Нокрон       2.87      40.394523   \n",
       "2216-01-02              Эстус         Нокрон       2.87      40.394523   \n",
       "...                       ...            ...        ...            ...   \n",
       "2218-09-27  Эльфийская пыльца  Врата Балдура      27.47      26.922775   \n",
       "2218-09-27  Эльфийская пыльца  Врата Балдура      27.47      26.922775   \n",
       "2218-09-27  Эльфийская пыльца  Врата Балдура      27.47      26.922775   \n",
       "2218-09-27  Эльфийская пыльца      Кеджистан      31.20      47.893352   \n",
       "2218-09-27  Эльфийская пыльца      Кеджистан      31.20      47.893352   \n",
       "\n",
       "                competitor  compet_price  \n",
       "datetime                                  \n",
       "2216-01-02     Арториас&Co          3.04  \n",
       "2216-01-02  Длань господня          3.03  \n",
       "2216-01-02           ЛилIT          3.07  \n",
       "2216-01-02     Арториас&Co          2.86  \n",
       "2216-01-02           ЛилIT          3.09  \n",
       "...                    ...           ...  \n",
       "2218-09-27  Длань господня         25.93  \n",
       "2218-09-27           ЛилIT         27.49  \n",
       "2218-09-27    Светлые Души         24.63  \n",
       "2218-09-27  Длань господня         31.13  \n",
       "2218-09-27    Светлые Души         31.81  \n",
       "\n",
       "[31844 rows x 6 columns]"
      ]
     },
     "execution_count": 33,
     "metadata": {},
     "output_type": "execute_result"
    }
   ],
   "source": [
    "df_new"
   ]
  },
  {
   "cell_type": "markdown",
   "id": "054a6532",
   "metadata": {},
   "source": [
    "Переименовываю столбцы"
   ]
  },
  {
   "cell_type": "code",
   "execution_count": 34,
   "id": "fe044631",
   "metadata": {},
   "outputs": [],
   "source": [
    "df_new = df_new.rename(columns={df_new.columns[2]: 'price',df_new.columns[3]: 'amount'}) "
   ]
  },
  {
   "cell_type": "code",
   "execution_count": 35,
   "id": "957e021c",
   "metadata": {},
   "outputs": [
    {
     "data": {
      "text/html": [
       "<div>\n",
       "<style scoped>\n",
       "    .dataframe tbody tr th:only-of-type {\n",
       "        vertical-align: middle;\n",
       "    }\n",
       "\n",
       "    .dataframe tbody tr th {\n",
       "        vertical-align: top;\n",
       "    }\n",
       "\n",
       "    .dataframe thead th {\n",
       "        text-align: right;\n",
       "    }\n",
       "</style>\n",
       "<table border=\"1\" class=\"dataframe\">\n",
       "  <thead>\n",
       "    <tr style=\"text-align: right;\">\n",
       "      <th></th>\n",
       "      <th>product</th>\n",
       "      <th>place</th>\n",
       "      <th>price</th>\n",
       "      <th>amount</th>\n",
       "      <th>competitor</th>\n",
       "      <th>compet_price</th>\n",
       "    </tr>\n",
       "    <tr>\n",
       "      <th>datetime</th>\n",
       "      <th></th>\n",
       "      <th></th>\n",
       "      <th></th>\n",
       "      <th></th>\n",
       "      <th></th>\n",
       "      <th></th>\n",
       "    </tr>\n",
       "  </thead>\n",
       "  <tbody>\n",
       "    <tr>\n",
       "      <th>2216-01-02</th>\n",
       "      <td>Целебные травы</td>\n",
       "      <td>Нокрон</td>\n",
       "      <td>2.73</td>\n",
       "      <td>44.869785</td>\n",
       "      <td>Арториас&amp;Co</td>\n",
       "      <td>3.04</td>\n",
       "    </tr>\n",
       "    <tr>\n",
       "      <th>2216-01-02</th>\n",
       "      <td>Целебные травы</td>\n",
       "      <td>Нокрон</td>\n",
       "      <td>2.73</td>\n",
       "      <td>44.869785</td>\n",
       "      <td>Длань господня</td>\n",
       "      <td>3.03</td>\n",
       "    </tr>\n",
       "    <tr>\n",
       "      <th>2216-01-02</th>\n",
       "      <td>Целебные травы</td>\n",
       "      <td>Нокрон</td>\n",
       "      <td>2.73</td>\n",
       "      <td>44.869785</td>\n",
       "      <td>ЛилIT</td>\n",
       "      <td>3.07</td>\n",
       "    </tr>\n",
       "    <tr>\n",
       "      <th>2216-01-02</th>\n",
       "      <td>Эстус</td>\n",
       "      <td>Нокрон</td>\n",
       "      <td>2.87</td>\n",
       "      <td>40.394523</td>\n",
       "      <td>Арториас&amp;Co</td>\n",
       "      <td>2.86</td>\n",
       "    </tr>\n",
       "    <tr>\n",
       "      <th>2216-01-02</th>\n",
       "      <td>Эстус</td>\n",
       "      <td>Нокрон</td>\n",
       "      <td>2.87</td>\n",
       "      <td>40.394523</td>\n",
       "      <td>ЛилIT</td>\n",
       "      <td>3.09</td>\n",
       "    </tr>\n",
       "    <tr>\n",
       "      <th>...</th>\n",
       "      <td>...</td>\n",
       "      <td>...</td>\n",
       "      <td>...</td>\n",
       "      <td>...</td>\n",
       "      <td>...</td>\n",
       "      <td>...</td>\n",
       "    </tr>\n",
       "    <tr>\n",
       "      <th>2218-09-27</th>\n",
       "      <td>Эльфийская пыльца</td>\n",
       "      <td>Врата Балдура</td>\n",
       "      <td>27.47</td>\n",
       "      <td>26.922775</td>\n",
       "      <td>Длань господня</td>\n",
       "      <td>25.93</td>\n",
       "    </tr>\n",
       "    <tr>\n",
       "      <th>2218-09-27</th>\n",
       "      <td>Эльфийская пыльца</td>\n",
       "      <td>Врата Балдура</td>\n",
       "      <td>27.47</td>\n",
       "      <td>26.922775</td>\n",
       "      <td>ЛилIT</td>\n",
       "      <td>27.49</td>\n",
       "    </tr>\n",
       "    <tr>\n",
       "      <th>2218-09-27</th>\n",
       "      <td>Эльфийская пыльца</td>\n",
       "      <td>Врата Балдура</td>\n",
       "      <td>27.47</td>\n",
       "      <td>26.922775</td>\n",
       "      <td>Светлые Души</td>\n",
       "      <td>24.63</td>\n",
       "    </tr>\n",
       "    <tr>\n",
       "      <th>2218-09-27</th>\n",
       "      <td>Эльфийская пыльца</td>\n",
       "      <td>Кеджистан</td>\n",
       "      <td>31.20</td>\n",
       "      <td>47.893352</td>\n",
       "      <td>Длань господня</td>\n",
       "      <td>31.13</td>\n",
       "    </tr>\n",
       "    <tr>\n",
       "      <th>2218-09-27</th>\n",
       "      <td>Эльфийская пыльца</td>\n",
       "      <td>Кеджистан</td>\n",
       "      <td>31.20</td>\n",
       "      <td>47.893352</td>\n",
       "      <td>Светлые Души</td>\n",
       "      <td>31.81</td>\n",
       "    </tr>\n",
       "  </tbody>\n",
       "</table>\n",
       "<p>31844 rows × 6 columns</p>\n",
       "</div>"
      ],
      "text/plain": [
       "                      product          place  price     amount  \\\n",
       "datetime                                                         \n",
       "2216-01-02     Целебные травы         Нокрон   2.73  44.869785   \n",
       "2216-01-02     Целебные травы         Нокрон   2.73  44.869785   \n",
       "2216-01-02     Целебные травы         Нокрон   2.73  44.869785   \n",
       "2216-01-02              Эстус         Нокрон   2.87  40.394523   \n",
       "2216-01-02              Эстус         Нокрон   2.87  40.394523   \n",
       "...                       ...            ...    ...        ...   \n",
       "2218-09-27  Эльфийская пыльца  Врата Балдура  27.47  26.922775   \n",
       "2218-09-27  Эльфийская пыльца  Врата Балдура  27.47  26.922775   \n",
       "2218-09-27  Эльфийская пыльца  Врата Балдура  27.47  26.922775   \n",
       "2218-09-27  Эльфийская пыльца      Кеджистан  31.20  47.893352   \n",
       "2218-09-27  Эльфийская пыльца      Кеджистан  31.20  47.893352   \n",
       "\n",
       "                competitor  compet_price  \n",
       "datetime                                  \n",
       "2216-01-02     Арториас&Co          3.04  \n",
       "2216-01-02  Длань господня          3.03  \n",
       "2216-01-02           ЛилIT          3.07  \n",
       "2216-01-02     Арториас&Co          2.86  \n",
       "2216-01-02           ЛилIT          3.09  \n",
       "...                    ...           ...  \n",
       "2218-09-27  Длань господня         25.93  \n",
       "2218-09-27           ЛилIT         27.49  \n",
       "2218-09-27    Светлые Души         24.63  \n",
       "2218-09-27  Длань господня         31.13  \n",
       "2218-09-27    Светлые Души         31.81  \n",
       "\n",
       "[31844 rows x 6 columns]"
      ]
     },
     "execution_count": 35,
     "metadata": {},
     "output_type": "execute_result"
    }
   ],
   "source": [
    "df_new"
   ]
  },
  {
   "cell_type": "markdown",
   "id": "e03c6256",
   "metadata": {},
   "source": [
    "Следующие шаги:\n",
    "\n",
    "1. Построить модели SARIMAX для каждого товара в каждом городе\n",
    "2. Оптимизировать цену, которая максимизирует прибыль и не превышает 20% от цены конкурента. \n",
    "    price∗amount−cost∗amount\n",
    "3. 3 дня должна держаться одна цена"
   ]
  }
 ],
 "metadata": {
  "kernelspec": {
   "display_name": "Python 3 (ipykernel)",
   "language": "python",
   "name": "python3"
  },
  "language_info": {
   "codemirror_mode": {
    "name": "ipython",
    "version": 3
   },
   "file_extension": ".py",
   "mimetype": "text/x-python",
   "name": "python",
   "nbconvert_exporter": "python",
   "pygments_lexer": "ipython3",
   "version": "3.11.0"
  }
 },
 "nbformat": 4,
 "nbformat_minor": 5
}
