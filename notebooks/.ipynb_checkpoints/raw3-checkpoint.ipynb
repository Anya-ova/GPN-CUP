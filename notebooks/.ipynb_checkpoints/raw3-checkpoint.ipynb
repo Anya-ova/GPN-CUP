{
 "cells": [
  {
   "cell_type": "code",
   "execution_count": 1,
   "id": "ee6b39c7",
   "metadata": {},
   "outputs": [],
   "source": [
    "import pandas as pd\n",
    "import numpy as np\n",
    "import seaborn as sns\n",
    "import matplotlib.pyplot as plt\n",
    "from statsmodels.tsa.statespace.sarimax import SARIMAX\n",
    "from statsmodels.tsa.statespace.sarimax import SARIMAXResults\n",
    "from sklearn.metrics import mean_absolute_error"
   ]
  },
  {
   "cell_type": "code",
   "execution_count": 2,
   "id": "558d17d1",
   "metadata": {},
   "outputs": [],
   "source": [
    "plt.rcParams[\"figure.figsize\"] = (12, 8)\n",
    "plt.rcParams.update({'font.size': 11})"
   ]
  },
  {
   "cell_type": "code",
   "execution_count": 3,
   "id": "90b67336",
   "metadata": {},
   "outputs": [],
   "source": [
    "df_transaction = pd.read_parquet(\"../data/transaction_df.parquet\")\n",
    "# df_competitors = pd.read_parquet(\"../data/df_competitors.parquet\")\n",
    "df_cost = pd.read_parquet(\"../data/df_cost.parquet\")\n",
    "# df_weather = pd.read_parquet(\"../data/weather_df.parquet\")"
   ]
  },
  {
   "cell_type": "code",
   "execution_count": 4,
   "id": "f98c5ba7",
   "metadata": {},
   "outputs": [],
   "source": [
    "df_transaction['datetime'] = pd.to_datetime(df_transaction['datetime']).dt.date"
   ]
  },
  {
   "cell_type": "code",
   "execution_count": 5,
   "id": "10460cc6",
   "metadata": {},
   "outputs": [],
   "source": [
    "df_transaction = df_transaction.set_index('datetime')"
   ]
  },
  {
   "cell_type": "code",
   "execution_count": 6,
   "id": "0ecf78d4",
   "metadata": {},
   "outputs": [],
   "source": [
    "df_transaction = df_transaction.dropna()"
   ]
  },
  {
   "cell_type": "code",
   "execution_count": 7,
   "id": "8e03523d",
   "metadata": {},
   "outputs": [],
   "source": [
    "df_transaction = df_transaction[(df_transaction['amount'] > 0) & (df_transaction['price'] > 0)]"
   ]
  },
  {
   "cell_type": "code",
   "execution_count": 8,
   "id": "cb1cc7bd",
   "metadata": {},
   "outputs": [],
   "source": [
    "# df_trans_group = df_transaction.groupby(['datetime', 'price', 'product','place']).agg({'amount': ['sum']}).reset_index()"
   ]
  },
  {
   "cell_type": "code",
   "execution_count": 9,
   "id": "859dc7e9",
   "metadata": {},
   "outputs": [],
   "source": [
    "df_transaction.groupby(['datetime', 'price', 'product','place']).agg({'amount': ['sum']}).reset_index().to_csv('../data/transaction_group.csv', index=False,)  "
   ]
  },
  {
   "cell_type": "code",
   "execution_count": 10,
   "id": "d9fc401f",
   "metadata": {},
   "outputs": [],
   "source": [
    "df_group = pd.read_csv(\"../data/transaction_group.csv\", parse_dates=['datetime'],index_col='datetime')"
   ]
  },
  {
   "cell_type": "code",
   "execution_count": 11,
   "id": "040d16e2",
   "metadata": {},
   "outputs": [],
   "source": [
    "df_group=df_group.dropna()"
   ]
  },
  {
   "cell_type": "code",
   "execution_count": 12,
   "id": "8f9dcd23",
   "metadata": {},
   "outputs": [],
   "source": [
    "# df_select = df_trans_group[(df_trans_group['product'] == 'Целебные травы') & (df_trans_group['place'] == 'Врата Балдура')]"
   ]
  },
  {
   "cell_type": "code",
   "execution_count": 13,
   "id": "50a2c921",
   "metadata": {},
   "outputs": [
    {
     "data": {
      "text/plain": [
       "array(['Целебные травы', 'Эстус', 'Эльфийская пыльца'], dtype=object)"
      ]
     },
     "execution_count": 13,
     "metadata": {},
     "output_type": "execute_result"
    }
   ],
   "source": [
    "df_group['product'].unique()"
   ]
  },
  {
   "cell_type": "code",
   "execution_count": 14,
   "id": "2b607974",
   "metadata": {},
   "outputs": [
    {
     "data": {
      "text/plain": [
       "array(['Нокрон', 'Анор Лондо', 'Кеджистан', 'Фалькония', 'Врата Балдура'],\n",
       "      dtype=object)"
      ]
     },
     "execution_count": 14,
     "metadata": {},
     "output_type": "execute_result"
    }
   ],
   "source": [
    "df_group['place'].unique()"
   ]
  },
  {
   "cell_type": "code",
   "execution_count": 15,
   "id": "be9ec667",
   "metadata": {},
   "outputs": [],
   "source": [
    "# model = SARIMAX(df_select['amount'], \n",
    "#                 order=(1, 0, 1), \n",
    "#                 seasonal_order=(1, 1, 1, 12), \n",
    "#                 exog=df_select['price'])\n",
    "\n",
    "# results = model.fit()"
   ]
  },
  {
   "cell_type": "code",
   "execution_count": 16,
   "id": "8a999361",
   "metadata": {},
   "outputs": [],
   "source": [
    "# df_select['forecast'] = results.predict(start='2218-08-23', end='2218-09-27', dynamic=True)"
   ]
  },
  {
   "cell_type": "code",
   "execution_count": 17,
   "id": "d3e57983",
   "metadata": {},
   "outputs": [],
   "source": [
    "# df_select[['amount', 'forecast']].plot()"
   ]
  },
  {
   "cell_type": "code",
   "execution_count": 18,
   "id": "42db0e54",
   "metadata": {},
   "outputs": [],
   "source": [
    "# df_select=df_select.dropna()"
   ]
  },
  {
   "cell_type": "code",
   "execution_count": 19,
   "id": "6b4454b6",
   "metadata": {},
   "outputs": [],
   "source": [
    "# error_mse = mean_absolute_error(\n",
    "#                 y_true = df_select['amount'],\n",
    "#                 y_pred = df_select['forecast']\n",
    "#             )\n",
    "\n",
    "# print(f\"Test error (mse): {error_mse}\")"
   ]
  },
  {
   "cell_type": "code",
   "execution_count": 20,
   "id": "054638fd",
   "metadata": {
    "scrolled": true
   },
   "outputs": [],
   "source": [
    "# product_list = ['Эстус', 'Эльфийская пыльца','Целебные травы']\n",
    "# place_list=['Нокрон', 'Анор Лондо', 'Кеджистан', 'Фалькония', 'Врата Балдура']\n",
    "\n",
    "# errors=[]\n",
    "# plt.figure()\n",
    "# for product_name in product_list:\n",
    "#     for place_name in place_list:\n",
    "#         df_select = df_trans_group[(df_trans_group['product'] == product_name) & (df_trans_group['place'] == place_name)]\n",
    "    \n",
    "#         model = SARIMAX(df_select['amount'], \n",
    "#                         order=(1, 0, 1), \n",
    "#                         seasonal_order=(1, 1, 1, 12), \n",
    "#                         exog=df_select['price'])\n",
    "#         results = model.fit()\n",
    "#         df_select['forecast'] = results.predict(start='2218-08-23', end='2218-09-27', dynamic=True)\n",
    "# #         df_predict=df_select\n",
    "# #         df_predict['forecast']= results.predict(start='2218-08-23', end='2218-09-27', dynamic=True)\n",
    "# #         df_select[['amount', 'forecast']].plot()\n",
    "# #         plt.scatter(df_select['amount'], df_select['forecast'])\n",
    "\n",
    "# plt.show()  "
   ]
  },
  {
   "cell_type": "code",
   "execution_count": 21,
   "id": "1d189dbb",
   "metadata": {},
   "outputs": [],
   "source": [
    "# exog = df_group[['price']]\n",
    "# combined_models = {}\n",
    "# for city in df_group['place'].unique():\n",
    "#     city_models = []\n",
    "#     for product in df_group['product'].unique():\n",
    "#         df_select = df_group[(df_group['product'] == product) & (df_group['place'] == city)]\n",
    "#         model = SARIMAX(df_select['amount'], order=(1, 0, 1),seasonal_order=(1, 1, 1, 12),  exog=exog)\n",
    "#         results = model.fit()\n",
    "#         city_models.append(results)\n",
    "#     combined_models[city] = city_models\n",
    "    \n",
    "# for city, models in combined_models.items():\n",
    "#     print(f\"Results for {city}:\")\n",
    "#     for i in range(3):\n",
    "#         print(f\"Results for product {i+1}:\")\n",
    "#         print(models[i].summary())"
   ]
  },
  {
   "cell_type": "code",
   "execution_count": 23,
   "id": "0f5df4fd",
   "metadata": {},
   "outputs": [],
   "source": [
    "df_group['amount'] = df_group['amount'].astype(float)\n",
    "df_group['price'] = df_group['price'].astype(float)"
   ]
  },
  {
   "cell_type": "code",
   "execution_count": 29,
   "id": "64c01b62",
   "metadata": {
    "scrolled": false
   },
   "outputs": [
    {
     "name": "stderr",
     "output_type": "stream",
     "text": [
      "C:\\Users\\Аня\\AppData\\Local\\Programs\\Python\\Python311\\Lib\\site-packages\\statsmodels\\tsa\\base\\tsa_model.py:471: ValueWarning: A date index has been provided, but it has no associated frequency information and so will be ignored when e.g. forecasting.\n",
      "  self._init_dates(dates, freq)\n",
      "C:\\Users\\Аня\\AppData\\Local\\Programs\\Python\\Python311\\Lib\\site-packages\\statsmodels\\tsa\\base\\tsa_model.py:471: ValueWarning: A date index has been provided, but it has no associated frequency information and so will be ignored when e.g. forecasting.\n",
      "  self._init_dates(dates, freq)\n",
      "C:\\Users\\Аня\\AppData\\Local\\Programs\\Python\\Python311\\Lib\\site-packages\\statsmodels\\tsa\\base\\tsa_model.py:834: ValueWarning: No supported index is available. Prediction results will be given with an integer index beginning at `start`.\n",
      "  return get_prediction_index(\n"
     ]
    },
    {
     "ename": "ValueError",
     "evalue": "Out-of-sample operations in a model with a regression component require additional exogenous values via the `exog` argument.",
     "output_type": "error",
     "traceback": [
      "\u001b[1;31m---------------------------------------------------------------------------\u001b[0m",
      "\u001b[1;31mValueError\u001b[0m                                Traceback (most recent call last)",
      "Cell \u001b[1;32mIn [29], line 13\u001b[0m\n\u001b[0;32m     10\u001b[0m results \u001b[38;5;241m=\u001b[39m model\u001b[38;5;241m.\u001b[39mfit()\n\u001b[0;32m     12\u001b[0m \u001b[38;5;66;03m# Получение прогнозов\u001b[39;00m\n\u001b[1;32m---> 13\u001b[0m forecast \u001b[38;5;241m=\u001b[39m \u001b[43mresults\u001b[49m\u001b[38;5;241;43m.\u001b[39;49m\u001b[43mget_forecast\u001b[49m\u001b[43m(\u001b[49m\u001b[43msteps\u001b[49m\u001b[38;5;241;43m=\u001b[39;49m\u001b[38;5;241;43m10\u001b[39;49m\u001b[43m)\u001b[49m\n\u001b[0;32m     14\u001b[0m \u001b[38;5;28mprint\u001b[39m(\u001b[38;5;124mf\u001b[39m\u001b[38;5;124m'\u001b[39m\u001b[38;5;124mПрогноз объема продаж \u001b[39m\u001b[38;5;132;01m{\u001b[39;00mproduct\u001b[38;5;132;01m}\u001b[39;00m\u001b[38;5;124m в городе \u001b[39m\u001b[38;5;132;01m{\u001b[39;00mcity\u001b[38;5;132;01m}\u001b[39;00m\u001b[38;5;124m: \u001b[39m\u001b[38;5;132;01m{\u001b[39;00mforecast\u001b[38;5;241m.\u001b[39mpredicted_mean\u001b[38;5;132;01m}\u001b[39;00m\u001b[38;5;124m'\u001b[39m)\n",
      "File \u001b[1;32m~\\AppData\\Local\\Programs\\Python\\Python311\\Lib\\site-packages\\statsmodels\\tsa\\statespace\\mlemodel.py:3354\u001b[0m, in \u001b[0;36mMLEResults.get_forecast\u001b[1;34m(self, steps, **kwargs)\u001b[0m\n\u001b[0;32m   3352\u001b[0m \u001b[38;5;28;01melse\u001b[39;00m:\n\u001b[0;32m   3353\u001b[0m     end \u001b[38;5;241m=\u001b[39m steps\n\u001b[1;32m-> 3354\u001b[0m \u001b[38;5;28;01mreturn\u001b[39;00m \u001b[38;5;28;43mself\u001b[39;49m\u001b[38;5;241;43m.\u001b[39;49m\u001b[43mget_prediction\u001b[49m\u001b[43m(\u001b[49m\u001b[43mstart\u001b[49m\u001b[38;5;241;43m=\u001b[39;49m\u001b[38;5;28;43mself\u001b[39;49m\u001b[38;5;241;43m.\u001b[39;49m\u001b[43mnobs\u001b[49m\u001b[43m,\u001b[49m\u001b[43m \u001b[49m\u001b[43mend\u001b[49m\u001b[38;5;241;43m=\u001b[39;49m\u001b[43mend\u001b[49m\u001b[43m,\u001b[49m\u001b[43m \u001b[49m\u001b[38;5;241;43m*\u001b[39;49m\u001b[38;5;241;43m*\u001b[39;49m\u001b[43mkwargs\u001b[49m\u001b[43m)\u001b[49m\n",
      "File \u001b[1;32m~\\AppData\\Local\\Programs\\Python\\Python311\\Lib\\site-packages\\statsmodels\\tsa\\statespace\\mlemodel.py:3302\u001b[0m, in \u001b[0;36mMLEResults.get_prediction\u001b[1;34m(self, start, end, dynamic, index, exog, extend_model, extend_kwargs, **kwargs)\u001b[0m\n\u001b[0;32m   3299\u001b[0m     extend_model \u001b[38;5;241m=\u001b[39m (\u001b[38;5;28mself\u001b[39m\u001b[38;5;241m.\u001b[39mmodel\u001b[38;5;241m.\u001b[39mexog \u001b[38;5;129;01mis\u001b[39;00m \u001b[38;5;129;01mnot\u001b[39;00m \u001b[38;5;28;01mNone\u001b[39;00m \u001b[38;5;129;01mor\u001b[39;00m\n\u001b[0;32m   3300\u001b[0m                     \u001b[38;5;129;01mnot\u001b[39;00m \u001b[38;5;28mself\u001b[39m\u001b[38;5;241m.\u001b[39mfilter_results\u001b[38;5;241m.\u001b[39mtime_invariant)\n\u001b[0;32m   3301\u001b[0m \u001b[38;5;28;01mif\u001b[39;00m out_of_sample \u001b[38;5;129;01mand\u001b[39;00m extend_model:\n\u001b[1;32m-> 3302\u001b[0m     kwargs \u001b[38;5;241m=\u001b[39m \u001b[38;5;28;43mself\u001b[39;49m\u001b[38;5;241;43m.\u001b[39;49m\u001b[43mmodel\u001b[49m\u001b[38;5;241;43m.\u001b[39;49m\u001b[43m_get_extension_time_varying_matrices\u001b[49m\u001b[43m(\u001b[49m\n\u001b[0;32m   3303\u001b[0m \u001b[43m        \u001b[49m\u001b[38;5;28;43mself\u001b[39;49m\u001b[38;5;241;43m.\u001b[39;49m\u001b[43mparams\u001b[49m\u001b[43m,\u001b[49m\u001b[43m \u001b[49m\u001b[43mexog\u001b[49m\u001b[43m,\u001b[49m\u001b[43m \u001b[49m\u001b[43mout_of_sample\u001b[49m\u001b[43m,\u001b[49m\u001b[43m \u001b[49m\u001b[43mextend_kwargs\u001b[49m\u001b[43m,\u001b[49m\n\u001b[0;32m   3304\u001b[0m \u001b[43m        \u001b[49m\u001b[43mtransformed\u001b[49m\u001b[38;5;241;43m=\u001b[39;49m\u001b[38;5;28;43;01mTrue\u001b[39;49;00m\u001b[43m,\u001b[49m\u001b[43m \u001b[49m\u001b[43mincludes_fixed\u001b[49m\u001b[38;5;241;43m=\u001b[39;49m\u001b[38;5;28;43;01mTrue\u001b[39;49;00m\u001b[43m,\u001b[49m\u001b[43m \u001b[49m\u001b[38;5;241;43m*\u001b[39;49m\u001b[38;5;241;43m*\u001b[39;49m\u001b[43mkwargs\u001b[49m\u001b[43m)\u001b[49m\n\u001b[0;32m   3306\u001b[0m \u001b[38;5;66;03m# Make sure the model class has the current parameters\u001b[39;00m\n\u001b[0;32m   3307\u001b[0m \u001b[38;5;28mself\u001b[39m\u001b[38;5;241m.\u001b[39mmodel\u001b[38;5;241m.\u001b[39mupdate(\u001b[38;5;28mself\u001b[39m\u001b[38;5;241m.\u001b[39mparams, transformed\u001b[38;5;241m=\u001b[39m\u001b[38;5;28;01mTrue\u001b[39;00m, includes_fixed\u001b[38;5;241m=\u001b[39m\u001b[38;5;28;01mTrue\u001b[39;00m)\n",
      "File \u001b[1;32m~\\AppData\\Local\\Programs\\Python\\Python311\\Lib\\site-packages\\statsmodels\\tsa\\statespace\\sarimax.py:1718\u001b[0m, in \u001b[0;36mSARIMAX._get_extension_time_varying_matrices\u001b[1;34m(self, params, exog, out_of_sample, extend_kwargs, transformed, includes_fixed, **kwargs)\u001b[0m\n\u001b[0;32m   1708\u001b[0m \u001b[38;5;124;03m\"\"\"\u001b[39;00m\n\u001b[0;32m   1709\u001b[0m \u001b[38;5;124;03mGet time-varying state space system matrices for extended model\u001b[39;00m\n\u001b[0;32m   1710\u001b[0m \n\u001b[1;32m   (...)\u001b[0m\n\u001b[0;32m   1714\u001b[0m \u001b[38;5;124;03mspecial handling in the `simple_differencing=True` case.\u001b[39;00m\n\u001b[0;32m   1715\u001b[0m \u001b[38;5;124;03m\"\"\"\u001b[39;00m\n\u001b[0;32m   1717\u001b[0m \u001b[38;5;66;03m# Get the appropriate exog for the extended sample\u001b[39;00m\n\u001b[1;32m-> 1718\u001b[0m exog \u001b[38;5;241m=\u001b[39m \u001b[38;5;28;43mself\u001b[39;49m\u001b[38;5;241;43m.\u001b[39;49m\u001b[43m_validate_out_of_sample_exog\u001b[49m\u001b[43m(\u001b[49m\u001b[43mexog\u001b[49m\u001b[43m,\u001b[49m\u001b[43m \u001b[49m\u001b[43mout_of_sample\u001b[49m\u001b[43m)\u001b[49m\n\u001b[0;32m   1720\u001b[0m \u001b[38;5;66;03m# Get the tmp endog, exog\u001b[39;00m\n\u001b[0;32m   1721\u001b[0m \u001b[38;5;28;01mif\u001b[39;00m \u001b[38;5;28mself\u001b[39m\u001b[38;5;241m.\u001b[39msimple_differencing:\n",
      "File \u001b[1;32m~\\AppData\\Local\\Programs\\Python\\Python311\\Lib\\site-packages\\statsmodels\\tsa\\statespace\\mlemodel.py:1768\u001b[0m, in \u001b[0;36mMLEModel._validate_out_of_sample_exog\u001b[1;34m(self, exog, out_of_sample)\u001b[0m\n\u001b[0;32m   1766\u001b[0m \u001b[38;5;28;01mif\u001b[39;00m out_of_sample \u001b[38;5;129;01mand\u001b[39;00m \u001b[38;5;28mself\u001b[39m\u001b[38;5;241m.\u001b[39mk_exog \u001b[38;5;241m>\u001b[39m \u001b[38;5;241m0\u001b[39m:\n\u001b[0;32m   1767\u001b[0m     \u001b[38;5;28;01mif\u001b[39;00m exog \u001b[38;5;129;01mis\u001b[39;00m \u001b[38;5;28;01mNone\u001b[39;00m:\n\u001b[1;32m-> 1768\u001b[0m         \u001b[38;5;28;01mraise\u001b[39;00m \u001b[38;5;167;01mValueError\u001b[39;00m(\u001b[38;5;124m'\u001b[39m\u001b[38;5;124mOut-of-sample operations in a model\u001b[39m\u001b[38;5;124m'\u001b[39m\n\u001b[0;32m   1769\u001b[0m                          \u001b[38;5;124m'\u001b[39m\u001b[38;5;124m with a regression component require\u001b[39m\u001b[38;5;124m'\u001b[39m\n\u001b[0;32m   1770\u001b[0m                          \u001b[38;5;124m'\u001b[39m\u001b[38;5;124m additional exogenous values via the\u001b[39m\u001b[38;5;124m'\u001b[39m\n\u001b[0;32m   1771\u001b[0m                          \u001b[38;5;124m'\u001b[39m\u001b[38;5;124m `exog` argument.\u001b[39m\u001b[38;5;124m'\u001b[39m)\n\u001b[0;32m   1772\u001b[0m     exog \u001b[38;5;241m=\u001b[39m np\u001b[38;5;241m.\u001b[39marray(exog)\n\u001b[0;32m   1773\u001b[0m     required_exog_shape \u001b[38;5;241m=\u001b[39m (out_of_sample, \u001b[38;5;28mself\u001b[39m\u001b[38;5;241m.\u001b[39mk_exog)\n",
      "\u001b[1;31mValueError\u001b[0m: Out-of-sample operations in a model with a regression component require additional exogenous values via the `exog` argument."
     ]
    }
   ],
   "source": [
    "exog = df_group[['price']]\n",
    "\n",
    "# Построение модели SARIMAX для каждого продукта в каждом городе\n",
    "for city in df_group['place'].unique():\n",
    "    for product in df_group['product'].unique():\n",
    "        model = SARIMAX(endog=df_group.loc[(df_group['place'] == city) & (df_group['product'] == product)]['amount'],\n",
    "                        exog= exog.loc[(df_group['place'] == city) & (df_group['product'] == product)],\n",
    "                        order=(1, 0, 0),\n",
    "                        seasonal_order=(1, 0, 0, 12))\n",
    "        results = model.fit()\n",
    "\n",
    "        # Получение прогнозов\n",
    "        forecast = results.get_forecast(steps=10)\n",
    "        print(f'Прогноз объема продаж {product} в городе {city}: {forecast.predicted_mean}')"
   ]
  },
  {
   "cell_type": "code",
   "execution_count": null,
   "id": "e838e662",
   "metadata": {},
   "outputs": [],
   "source": []
  }
 ],
 "metadata": {
  "kernelspec": {
   "display_name": "Python 3 (ipykernel)",
   "language": "python",
   "name": "python3"
  },
  "language_info": {
   "codemirror_mode": {
    "name": "ipython",
    "version": 3
   },
   "file_extension": ".py",
   "mimetype": "text/x-python",
   "name": "python",
   "nbconvert_exporter": "python",
   "pygments_lexer": "ipython3",
   "version": "3.11.0"
  }
 },
 "nbformat": 4,
 "nbformat_minor": 5
}
