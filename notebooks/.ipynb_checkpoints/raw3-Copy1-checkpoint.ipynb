{
 "cells": [
  {
   "cell_type": "code",
   "execution_count": 1,
   "id": "ee6b39c7",
   "metadata": {},
   "outputs": [],
   "source": [
    "import pandas as pd\n",
    "import numpy as np\n",
    "import seaborn as sns\n",
    "import matplotlib.pyplot as plt\n",
    "from statsmodels.tsa.statespace.sarimax import SARIMAX\n",
    "from statsmodels.tsa.statespace.sarimax import SARIMAXResults\n",
    "from sklearn.metrics import mean_absolute_error"
   ]
  },
  {
   "cell_type": "code",
   "execution_count": 2,
   "id": "558d17d1",
   "metadata": {},
   "outputs": [],
   "source": [
    "plt.rcParams[\"figure.figsize\"] = (12, 8)\n",
    "plt.rcParams.update({'font.size': 11})"
   ]
  },
  {
   "cell_type": "code",
   "execution_count": 3,
   "id": "90b67336",
   "metadata": {},
   "outputs": [],
   "source": [
    "df_transaction = pd.read_parquet(\"../data/transaction_df.parquet\")\n",
    "# df_competitors = pd.read_parquet(\"../data/df_competitors.parquet\")\n",
    "df_cost = pd.read_parquet(\"../data/df_cost.parquet\")\n",
    "# df_weather = pd.read_parquet(\"../data/weather_df.parquet\")"
   ]
  },
  {
   "cell_type": "code",
   "execution_count": 4,
   "id": "f98c5ba7",
   "metadata": {},
   "outputs": [],
   "source": [
    "df_transaction['datetime'] = pd.to_datetime(df_transaction['datetime']).dt.date"
   ]
  },
  {
   "cell_type": "code",
   "execution_count": 5,
   "id": "10460cc6",
   "metadata": {},
   "outputs": [],
   "source": [
    "df_transaction = df_transaction.set_index('datetime')"
   ]
  },
  {
   "cell_type": "code",
   "execution_count": 6,
   "id": "0ecf78d4",
   "metadata": {},
   "outputs": [],
   "source": [
    "df_transaction = df_transaction.dropna()"
   ]
  },
  {
   "cell_type": "code",
   "execution_count": 7,
   "id": "8e03523d",
   "metadata": {},
   "outputs": [],
   "source": [
    "df_transaction = df_transaction[(df_transaction['amount'] > 0) & (df_transaction['price'] > 0)]"
   ]
  },
  {
   "cell_type": "code",
   "execution_count": 8,
   "id": "cb1cc7bd",
   "metadata": {},
   "outputs": [],
   "source": [
    "# df_trans_group = df_transaction.groupby(['datetime', 'price', 'product','place']).agg({'amount': ['sum']}).reset_index()"
   ]
  },
  {
   "cell_type": "code",
   "execution_count": 9,
   "id": "859dc7e9",
   "metadata": {},
   "outputs": [],
   "source": [
    "df_transaction.groupby(['datetime', 'price', 'product','place']).agg({'amount': ['sum']}).reset_index().to_csv('../data/transaction_group.csv', index=False,)  "
   ]
  },
  {
   "cell_type": "code",
   "execution_count": 10,
   "id": "d9fc401f",
   "metadata": {},
   "outputs": [],
   "source": [
    "df_group = pd.read_csv(\"../data/transaction_group.csv\", parse_dates=['datetime'],index_col='datetime')"
   ]
  },
  {
   "cell_type": "code",
   "execution_count": 11,
   "id": "040d16e2",
   "metadata": {},
   "outputs": [],
   "source": [
    "df_group=df_group.dropna()"
   ]
  },
  {
   "cell_type": "code",
   "execution_count": 12,
   "id": "8f9dcd23",
   "metadata": {},
   "outputs": [],
   "source": [
    "# df_select = df_trans_group[(df_trans_group['product'] == 'Целебные травы') & (df_trans_group['place'] == 'Врата Балдура')]"
   ]
  },
  {
   "cell_type": "code",
   "execution_count": 13,
   "id": "50a2c921",
   "metadata": {},
   "outputs": [
    {
     "data": {
      "text/plain": [
       "array(['Целебные травы', 'Эстус', 'Эльфийская пыльца'], dtype=object)"
      ]
     },
     "execution_count": 13,
     "metadata": {},
     "output_type": "execute_result"
    }
   ],
   "source": [
    "df_group['product'].unique()"
   ]
  },
  {
   "cell_type": "code",
   "execution_count": 14,
   "id": "2b607974",
   "metadata": {},
   "outputs": [
    {
     "data": {
      "text/plain": [
       "array(['Нокрон', 'Анор Лондо', 'Кеджистан', 'Фалькония', 'Врата Балдура'],\n",
       "      dtype=object)"
      ]
     },
     "execution_count": 14,
     "metadata": {},
     "output_type": "execute_result"
    }
   ],
   "source": [
    "df_group['place'].unique()"
   ]
  },
  {
   "cell_type": "code",
   "execution_count": 15,
   "id": "be9ec667",
   "metadata": {},
   "outputs": [],
   "source": [
    "# model = SARIMAX(df_select['amount'], \n",
    "#                 order=(1, 0, 1), \n",
    "#                 seasonal_order=(1, 1, 1, 12), \n",
    "#                 exog=df_select['price'])\n",
    "\n",
    "# results = model.fit()"
   ]
  },
  {
   "cell_type": "code",
   "execution_count": 16,
   "id": "8a999361",
   "metadata": {},
   "outputs": [],
   "source": [
    "# df_select['forecast'] = results.predict(start='2218-08-23', end='2218-09-27', dynamic=True)"
   ]
  },
  {
   "cell_type": "code",
   "execution_count": 17,
   "id": "d3e57983",
   "metadata": {},
   "outputs": [],
   "source": [
    "# df_select[['amount', 'forecast']].plot()"
   ]
  },
  {
   "cell_type": "code",
   "execution_count": 18,
   "id": "42db0e54",
   "metadata": {},
   "outputs": [],
   "source": [
    "# df_select=df_select.dropna()"
   ]
  },
  {
   "cell_type": "code",
   "execution_count": 19,
   "id": "6b4454b6",
   "metadata": {},
   "outputs": [],
   "source": [
    "# error_mse = mean_absolute_error(\n",
    "#                 y_true = df_select['amount'],\n",
    "#                 y_pred = df_select['forecast']\n",
    "#             )\n",
    "\n",
    "# print(f\"Test error (mse): {error_mse}\")"
   ]
  },
  {
   "cell_type": "code",
   "execution_count": 20,
   "id": "054638fd",
   "metadata": {
    "scrolled": true
   },
   "outputs": [],
   "source": [
    "# product_list = ['Эстус', 'Эльфийская пыльца','Целебные травы']\n",
    "# place_list=['Нокрон', 'Анор Лондо', 'Кеджистан', 'Фалькония', 'Врата Балдура']\n",
    "\n",
    "# errors=[]\n",
    "# plt.figure()\n",
    "# for product_name in product_list:\n",
    "#     for place_name in place_list:\n",
    "#         df_select = df_trans_group[(df_trans_group['product'] == product_name) & (df_trans_group['place'] == place_name)]\n",
    "    \n",
    "#         model = SARIMAX(df_select['amount'], \n",
    "#                         order=(1, 0, 1), \n",
    "#                         seasonal_order=(1, 1, 1, 12), \n",
    "#                         exog=df_select['price'])\n",
    "#         results = model.fit()\n",
    "#         df_select['forecast'] = results.predict(start='2218-08-23', end='2218-09-27', dynamic=True)\n",
    "# #         df_predict=df_select\n",
    "# #         df_predict['forecast']= results.predict(start='2218-08-23', end='2218-09-27', dynamic=True)\n",
    "# #         df_select[['amount', 'forecast']].plot()\n",
    "# #         plt.scatter(df_select['amount'], df_select['forecast'])\n",
    "\n",
    "# plt.show()  "
   ]
  },
  {
   "cell_type": "code",
   "execution_count": 21,
   "id": "1d189dbb",
   "metadata": {},
   "outputs": [],
   "source": [
    "# exog = df_group[['price']]\n",
    "# combined_models = {}\n",
    "# for city in df_group['place'].unique():\n",
    "#     city_models = []\n",
    "#     for product in df_group['product'].unique():\n",
    "#         df_select = df_group[(df_group['product'] == product) & (df_group['place'] == city)]\n",
    "#         model = SARIMAX(df_select['amount'], order=(1, 0, 1),seasonal_order=(1, 1, 1, 12),  exog=exog)\n",
    "#         results = model.fit()\n",
    "#         city_models.append(results)\n",
    "#     combined_models[city] = city_models\n",
    "    \n",
    "# for city, models in combined_models.items():\n",
    "#     print(f\"Results for {city}:\")\n",
    "#     for i in range(3):\n",
    "#         print(f\"Results for product {i+1}:\")\n",
    "#         print(models[i].summary())"
   ]
  },
  {
   "cell_type": "code",
   "execution_count": 15,
   "id": "0f5df4fd",
   "metadata": {},
   "outputs": [],
   "source": [
    "df_group['amount'] = df_group['amount'].astype(float)\n",
    "df_group['price'] = df_group['price'].astype(float)"
   ]
  },
  {
   "cell_type": "code",
   "execution_count": 16,
   "id": "64c01b62",
   "metadata": {
    "scrolled": false
   },
   "outputs": [
    {
     "name": "stderr",
     "output_type": "stream",
     "text": [
      "C:\\Users\\Аня\\AppData\\Local\\Programs\\Python\\Python311\\Lib\\site-packages\\statsmodels\\tsa\\base\\tsa_model.py:471: ValueWarning: A date index has been provided, but it has no associated frequency information and so will be ignored when e.g. forecasting.\n",
      "  self._init_dates(dates, freq)\n",
      "C:\\Users\\Аня\\AppData\\Local\\Programs\\Python\\Python311\\Lib\\site-packages\\statsmodels\\tsa\\base\\tsa_model.py:471: ValueWarning: A date index has been provided, but it has no associated frequency information and so will be ignored when e.g. forecasting.\n",
      "  self._init_dates(dates, freq)\n",
      "C:\\Users\\Аня\\AppData\\Local\\Programs\\Python\\Python311\\Lib\\site-packages\\statsmodels\\tsa\\base\\tsa_model.py:834: ValueWarning: No supported index is available. Prediction results will be given with an integer index beginning at `start`.\n",
      "  return get_prediction_index(\n",
      "C:\\Users\\Аня\\AppData\\Local\\Programs\\Python\\Python311\\Lib\\site-packages\\statsmodels\\tsa\\base\\tsa_model.py:471: ValueWarning: A date index has been provided, but it has no associated frequency information and so will be ignored when e.g. forecasting.\n",
      "  self._init_dates(dates, freq)\n",
      "C:\\Users\\Аня\\AppData\\Local\\Programs\\Python\\Python311\\Lib\\site-packages\\statsmodels\\tsa\\base\\tsa_model.py:471: ValueWarning: A date index has been provided, but it has no associated frequency information and so will be ignored when e.g. forecasting.\n",
      "  self._init_dates(dates, freq)\n"
     ]
    },
    {
     "name": "stdout",
     "output_type": "stream",
     "text": [
      "Прогноз объема продаж Целебные травы в городе Нокрон: 1001    53.258359\n",
      "1002    56.712854\n",
      "1003    60.185432\n",
      "1004    63.188939\n",
      "1005    63.614272\n",
      "1006    64.906641\n",
      "1007    66.644764\n",
      "1008    67.678136\n",
      "1009    67.751210\n",
      "1010    69.744611\n",
      "Name: predicted_mean, dtype: float64\n"
     ]
    },
    {
     "name": "stderr",
     "output_type": "stream",
     "text": [
      "C:\\Users\\Аня\\AppData\\Local\\Programs\\Python\\Python311\\Lib\\site-packages\\statsmodels\\tsa\\base\\tsa_model.py:834: ValueWarning: No supported index is available. Prediction results will be given with an integer index beginning at `start`.\n",
      "  return get_prediction_index(\n",
      "C:\\Users\\Аня\\AppData\\Local\\Programs\\Python\\Python311\\Lib\\site-packages\\statsmodels\\tsa\\base\\tsa_model.py:471: ValueWarning: A date index has been provided, but it has no associated frequency information and so will be ignored when e.g. forecasting.\n",
      "  self._init_dates(dates, freq)\n",
      "C:\\Users\\Аня\\AppData\\Local\\Programs\\Python\\Python311\\Lib\\site-packages\\statsmodels\\tsa\\base\\tsa_model.py:471: ValueWarning: A date index has been provided, but it has no associated frequency information and so will be ignored when e.g. forecasting.\n",
      "  self._init_dates(dates, freq)\n"
     ]
    },
    {
     "name": "stdout",
     "output_type": "stream",
     "text": [
      "Прогноз объема продаж Эстус в городе Нокрон: 1002    51.301480\n",
      "1003    53.388081\n",
      "1004    55.151916\n",
      "1005    57.223755\n",
      "1006    57.139110\n",
      "1007    59.029249\n",
      "1008    60.881767\n",
      "1009    61.581807\n",
      "1010    61.426109\n",
      "1011    63.633289\n",
      "Name: predicted_mean, dtype: float64\n"
     ]
    },
    {
     "name": "stderr",
     "output_type": "stream",
     "text": [
      "C:\\Users\\Аня\\AppData\\Local\\Programs\\Python\\Python311\\Lib\\site-packages\\statsmodels\\tsa\\base\\tsa_model.py:834: ValueWarning: No supported index is available. Prediction results will be given with an integer index beginning at `start`.\n",
      "  return get_prediction_index(\n",
      "C:\\Users\\Аня\\AppData\\Local\\Programs\\Python\\Python311\\Lib\\site-packages\\statsmodels\\tsa\\base\\tsa_model.py:471: ValueWarning: A date index has been provided, but it has no associated frequency information and so will be ignored when e.g. forecasting.\n",
      "  self._init_dates(dates, freq)\n",
      "C:\\Users\\Аня\\AppData\\Local\\Programs\\Python\\Python311\\Lib\\site-packages\\statsmodels\\tsa\\base\\tsa_model.py:471: ValueWarning: A date index has been provided, but it has no associated frequency information and so will be ignored when e.g. forecasting.\n",
      "  self._init_dates(dates, freq)\n"
     ]
    },
    {
     "name": "stdout",
     "output_type": "stream",
     "text": [
      "Прогноз объема продаж Эльфийская пыльца в городе Нокрон: 1001    21.527885\n",
      "1002    25.976150\n",
      "1003    26.303268\n",
      "1004    28.322563\n",
      "1005    25.686307\n",
      "1006    25.841780\n",
      "1007    29.250106\n",
      "1008    27.220867\n",
      "1009    25.401912\n",
      "1010    31.131737\n",
      "Name: predicted_mean, dtype: float64\n"
     ]
    },
    {
     "name": "stderr",
     "output_type": "stream",
     "text": [
      "C:\\Users\\Аня\\AppData\\Local\\Programs\\Python\\Python311\\Lib\\site-packages\\statsmodels\\tsa\\base\\tsa_model.py:834: ValueWarning: No supported index is available. Prediction results will be given with an integer index beginning at `start`.\n",
      "  return get_prediction_index(\n",
      "C:\\Users\\Аня\\AppData\\Local\\Programs\\Python\\Python311\\Lib\\site-packages\\statsmodels\\tsa\\base\\tsa_model.py:471: ValueWarning: A date index has been provided, but it has no associated frequency information and so will be ignored when e.g. forecasting.\n",
      "  self._init_dates(dates, freq)\n",
      "C:\\Users\\Аня\\AppData\\Local\\Programs\\Python\\Python311\\Lib\\site-packages\\statsmodels\\tsa\\base\\tsa_model.py:471: ValueWarning: A date index has been provided, but it has no associated frequency information and so will be ignored when e.g. forecasting.\n",
      "  self._init_dates(dates, freq)\n"
     ]
    },
    {
     "name": "stdout",
     "output_type": "stream",
     "text": [
      "Прогноз объема продаж Целебные травы в городе Анор Лондо: 1001    19.610412\n",
      "1002    22.017081\n",
      "1003    32.977995\n",
      "1004    16.027338\n",
      "1005    28.307012\n",
      "1006    24.739847\n",
      "1007    16.393320\n",
      "1008    33.756687\n",
      "1009    23.573419\n",
      "1010    32.970888\n",
      "Name: predicted_mean, dtype: float64\n"
     ]
    },
    {
     "name": "stderr",
     "output_type": "stream",
     "text": [
      "C:\\Users\\Аня\\AppData\\Local\\Programs\\Python\\Python311\\Lib\\site-packages\\statsmodels\\tsa\\base\\tsa_model.py:834: ValueWarning: No supported index is available. Prediction results will be given with an integer index beginning at `start`.\n",
      "  return get_prediction_index(\n",
      "C:\\Users\\Аня\\AppData\\Local\\Programs\\Python\\Python311\\Lib\\site-packages\\statsmodels\\tsa\\base\\tsa_model.py:471: ValueWarning: A date index has been provided, but it has no associated frequency information and so will be ignored when e.g. forecasting.\n",
      "  self._init_dates(dates, freq)\n",
      "C:\\Users\\Аня\\AppData\\Local\\Programs\\Python\\Python311\\Lib\\site-packages\\statsmodels\\tsa\\base\\tsa_model.py:471: ValueWarning: A date index has been provided, but it has no associated frequency information and so will be ignored when e.g. forecasting.\n",
      "  self._init_dates(dates, freq)\n"
     ]
    },
    {
     "name": "stdout",
     "output_type": "stream",
     "text": [
      "Прогноз объема продаж Эстус в городе Анор Лондо: 1005    43.408244\n",
      "1006    46.424820\n",
      "1007    49.836689\n",
      "1008    50.586343\n",
      "1009    51.879178\n",
      "1010    52.100332\n",
      "1011    51.798664\n",
      "1012    55.614147\n",
      "1013    54.484110\n",
      "1014    54.499485\n",
      "Name: predicted_mean, dtype: float64\n"
     ]
    },
    {
     "name": "stderr",
     "output_type": "stream",
     "text": [
      "C:\\Users\\Аня\\AppData\\Local\\Programs\\Python\\Python311\\Lib\\site-packages\\statsmodels\\tsa\\base\\tsa_model.py:834: ValueWarning: No supported index is available. Prediction results will be given with an integer index beginning at `start`.\n",
      "  return get_prediction_index(\n",
      "C:\\Users\\Аня\\AppData\\Local\\Programs\\Python\\Python311\\Lib\\site-packages\\statsmodels\\tsa\\base\\tsa_model.py:471: ValueWarning: No frequency information was provided, so inferred frequency D will be used.\n",
      "  self._init_dates(dates, freq)\n",
      "C:\\Users\\Аня\\AppData\\Local\\Programs\\Python\\Python311\\Lib\\site-packages\\statsmodels\\tsa\\base\\tsa_model.py:471: ValueWarning: No frequency information was provided, so inferred frequency D will be used.\n",
      "  self._init_dates(dates, freq)\n"
     ]
    },
    {
     "name": "stdout",
     "output_type": "stream",
     "text": [
      "Прогноз объема продаж Эльфийская пыльца в городе Анор Лондо: 1001    21.243966\n",
      "1002    21.343045\n",
      "1003    22.448431\n",
      "1004    22.547811\n",
      "1005    24.827696\n",
      "1006    23.786931\n",
      "1007    22.710532\n",
      "1008    24.788962\n",
      "1009    24.251331\n",
      "1010    24.854836\n",
      "Name: predicted_mean, dtype: float64\n",
      "Прогноз объема продаж Целебные травы в городе Кеджистан: 2218-09-28    13.179816\n",
      "2218-09-29    15.870954\n",
      "2218-09-30    18.662495\n",
      "2218-10-01    21.353132\n",
      "2218-10-02    22.762232\n",
      "2218-10-03    24.764261\n",
      "2218-10-04    24.361774\n",
      "2218-10-05    25.545954\n",
      "2218-10-06    26.925540\n",
      "2218-10-07    28.456439\n",
      "Freq: D, Name: predicted_mean, dtype: float64\n"
     ]
    },
    {
     "name": "stderr",
     "output_type": "stream",
     "text": [
      "C:\\Users\\Аня\\AppData\\Local\\Programs\\Python\\Python311\\Lib\\site-packages\\statsmodels\\tsa\\base\\tsa_model.py:471: ValueWarning: A date index has been provided, but it has no associated frequency information and so will be ignored when e.g. forecasting.\n",
      "  self._init_dates(dates, freq)\n",
      "C:\\Users\\Аня\\AppData\\Local\\Programs\\Python\\Python311\\Lib\\site-packages\\statsmodels\\tsa\\base\\tsa_model.py:471: ValueWarning: A date index has been provided, but it has no associated frequency information and so will be ignored when e.g. forecasting.\n",
      "  self._init_dates(dates, freq)\n",
      "C:\\Users\\Аня\\AppData\\Local\\Programs\\Python\\Python311\\Lib\\site-packages\\statsmodels\\tsa\\base\\tsa_model.py:834: ValueWarning: No supported index is available. Prediction results will be given with an integer index beginning at `start`.\n",
      "  return get_prediction_index(\n",
      "C:\\Users\\Аня\\AppData\\Local\\Programs\\Python\\Python311\\Lib\\site-packages\\statsmodels\\tsa\\base\\tsa_model.py:471: ValueWarning: A date index has been provided, but it has no associated frequency information and so will be ignored when e.g. forecasting.\n",
      "  self._init_dates(dates, freq)\n",
      "C:\\Users\\Аня\\AppData\\Local\\Programs\\Python\\Python311\\Lib\\site-packages\\statsmodels\\tsa\\base\\tsa_model.py:471: ValueWarning: A date index has been provided, but it has no associated frequency information and so will be ignored when e.g. forecasting.\n",
      "  self._init_dates(dates, freq)\n"
     ]
    },
    {
     "name": "stdout",
     "output_type": "stream",
     "text": [
      "Прогноз объема продаж Эстус в городе Кеджистан: 1001     8.002723\n",
      "1002     9.910359\n",
      "1003    12.290433\n",
      "1004    14.510093\n",
      "1005    16.043856\n",
      "1006    17.330155\n",
      "1007    18.433395\n",
      "1008    19.849465\n",
      "1009    21.043963\n",
      "1010    21.829883\n",
      "Name: predicted_mean, dtype: float64\n"
     ]
    },
    {
     "name": "stderr",
     "output_type": "stream",
     "text": [
      "C:\\Users\\Аня\\AppData\\Local\\Programs\\Python\\Python311\\Lib\\site-packages\\statsmodels\\tsa\\base\\tsa_model.py:834: ValueWarning: No supported index is available. Prediction results will be given with an integer index beginning at `start`.\n",
      "  return get_prediction_index(\n",
      "C:\\Users\\Аня\\AppData\\Local\\Programs\\Python\\Python311\\Lib\\site-packages\\statsmodels\\tsa\\base\\tsa_model.py:471: ValueWarning: No frequency information was provided, so inferred frequency D will be used.\n",
      "  self._init_dates(dates, freq)\n",
      "C:\\Users\\Аня\\AppData\\Local\\Programs\\Python\\Python311\\Lib\\site-packages\\statsmodels\\tsa\\base\\tsa_model.py:471: ValueWarning: No frequency information was provided, so inferred frequency D will be used.\n",
      "  self._init_dates(dates, freq)\n"
     ]
    },
    {
     "name": "stdout",
     "output_type": "stream",
     "text": [
      "Прогноз объема продаж Эльфийская пыльца в городе Кеджистан: 1001     8.024169\n",
      "1002    10.507115\n",
      "1003    11.518125\n",
      "1004    13.594194\n",
      "1005    14.781945\n",
      "1006    15.340663\n",
      "1007    14.741912\n",
      "1008    16.918196\n",
      "1009    16.923034\n",
      "1010    17.605861\n",
      "Name: predicted_mean, dtype: float64\n",
      "Прогноз объема продаж Целебные травы в городе Фалькония: 2218-09-28    42.985426\n",
      "2218-09-29    49.676262\n",
      "2218-09-30    51.675357\n",
      "2218-10-01    53.100975\n",
      "2218-10-02    54.783679\n",
      "2218-10-03    55.430869\n",
      "2218-10-04    54.242599\n",
      "2218-10-05    55.569961\n",
      "2218-10-06    54.479187\n",
      "2218-10-07    54.183069\n",
      "Freq: D, Name: predicted_mean, dtype: float64\n"
     ]
    },
    {
     "name": "stderr",
     "output_type": "stream",
     "text": [
      "C:\\Users\\Аня\\AppData\\Local\\Programs\\Python\\Python311\\Lib\\site-packages\\statsmodels\\tsa\\base\\tsa_model.py:471: ValueWarning: No frequency information was provided, so inferred frequency D will be used.\n",
      "  self._init_dates(dates, freq)\n",
      "C:\\Users\\Аня\\AppData\\Local\\Programs\\Python\\Python311\\Lib\\site-packages\\statsmodels\\tsa\\base\\tsa_model.py:471: ValueWarning: No frequency information was provided, so inferred frequency D will be used.\n",
      "  self._init_dates(dates, freq)\n"
     ]
    },
    {
     "name": "stdout",
     "output_type": "stream",
     "text": [
      "Прогноз объема продаж Эстус в городе Фалькония: 2218-09-28    51.894793\n",
      "2218-09-29    55.424081\n",
      "2218-09-30    55.797947\n",
      "2218-10-01    56.515938\n",
      "2218-10-02    57.543789\n",
      "2218-10-03    58.407148\n",
      "2218-10-04    58.374767\n",
      "2218-10-05    58.830250\n",
      "2218-10-06    57.058363\n",
      "2218-10-07    59.099241\n",
      "Freq: D, Name: predicted_mean, dtype: float64\n"
     ]
    },
    {
     "name": "stderr",
     "output_type": "stream",
     "text": [
      "C:\\Users\\Аня\\AppData\\Local\\Programs\\Python\\Python311\\Lib\\site-packages\\statsmodels\\tsa\\base\\tsa_model.py:471: ValueWarning: A date index has been provided, but it has no associated frequency information and so will be ignored when e.g. forecasting.\n",
      "  self._init_dates(dates, freq)\n",
      "C:\\Users\\Аня\\AppData\\Local\\Programs\\Python\\Python311\\Lib\\site-packages\\statsmodels\\tsa\\base\\tsa_model.py:471: ValueWarning: A date index has been provided, but it has no associated frequency information and so will be ignored when e.g. forecasting.\n",
      "  self._init_dates(dates, freq)\n",
      "C:\\Users\\Аня\\AppData\\Local\\Programs\\Python\\Python311\\Lib\\site-packages\\statsmodels\\tsa\\base\\tsa_model.py:834: ValueWarning: No supported index is available. Prediction results will be given with an integer index beginning at `start`.\n",
      "  return get_prediction_index(\n",
      "C:\\Users\\Аня\\AppData\\Local\\Programs\\Python\\Python311\\Lib\\site-packages\\statsmodels\\tsa\\base\\tsa_model.py:471: ValueWarning: A date index has been provided, but it has no associated frequency information and so will be ignored when e.g. forecasting.\n",
      "  self._init_dates(dates, freq)\n",
      "C:\\Users\\Аня\\AppData\\Local\\Programs\\Python\\Python311\\Lib\\site-packages\\statsmodels\\tsa\\base\\tsa_model.py:471: ValueWarning: A date index has been provided, but it has no associated frequency information and so will be ignored when e.g. forecasting.\n",
      "  self._init_dates(dates, freq)\n"
     ]
    },
    {
     "name": "stdout",
     "output_type": "stream",
     "text": [
      "Прогноз объема продаж Эльфийская пыльца в городе Фалькония: 1002    29.135047\n",
      "1003    30.938154\n",
      "1004    32.998130\n",
      "1005    33.965942\n",
      "1006    36.496236\n",
      "1007    35.551344\n",
      "1008    34.198942\n",
      "1009    35.422173\n",
      "1010    34.056052\n",
      "1011    34.878495\n",
      "Name: predicted_mean, dtype: float64\n"
     ]
    },
    {
     "name": "stderr",
     "output_type": "stream",
     "text": [
      "C:\\Users\\Аня\\AppData\\Local\\Programs\\Python\\Python311\\Lib\\site-packages\\statsmodels\\tsa\\base\\tsa_model.py:834: ValueWarning: No supported index is available. Prediction results will be given with an integer index beginning at `start`.\n",
      "  return get_prediction_index(\n",
      "C:\\Users\\Аня\\AppData\\Local\\Programs\\Python\\Python311\\Lib\\site-packages\\statsmodels\\tsa\\base\\tsa_model.py:471: ValueWarning: A date index has been provided, but it has no associated frequency information and so will be ignored when e.g. forecasting.\n",
      "  self._init_dates(dates, freq)\n",
      "C:\\Users\\Аня\\AppData\\Local\\Programs\\Python\\Python311\\Lib\\site-packages\\statsmodels\\tsa\\base\\tsa_model.py:471: ValueWarning: A date index has been provided, but it has no associated frequency information and so will be ignored when e.g. forecasting.\n",
      "  self._init_dates(dates, freq)\n"
     ]
    },
    {
     "name": "stdout",
     "output_type": "stream",
     "text": [
      "Прогноз объема продаж Целебные травы в городе Врата Балдура: 1001    18.249982\n",
      "1002    20.145742\n",
      "1003    22.151567\n",
      "1004    24.049433\n",
      "1005    25.143912\n",
      "1006    25.413142\n",
      "1007    26.221135\n",
      "1008    26.500317\n",
      "1009    27.532953\n",
      "1010    26.349828\n",
      "Name: predicted_mean, dtype: float64\n"
     ]
    },
    {
     "name": "stderr",
     "output_type": "stream",
     "text": [
      "C:\\Users\\Аня\\AppData\\Local\\Programs\\Python\\Python311\\Lib\\site-packages\\statsmodels\\tsa\\base\\tsa_model.py:834: ValueWarning: No supported index is available. Prediction results will be given with an integer index beginning at `start`.\n",
      "  return get_prediction_index(\n",
      "C:\\Users\\Аня\\AppData\\Local\\Programs\\Python\\Python311\\Lib\\site-packages\\statsmodels\\tsa\\base\\tsa_model.py:471: ValueWarning: A date index has been provided, but it has no associated frequency information and so will be ignored when e.g. forecasting.\n",
      "  self._init_dates(dates, freq)\n",
      "C:\\Users\\Аня\\AppData\\Local\\Programs\\Python\\Python311\\Lib\\site-packages\\statsmodels\\tsa\\base\\tsa_model.py:471: ValueWarning: A date index has been provided, but it has no associated frequency information and so will be ignored when e.g. forecasting.\n",
      "  self._init_dates(dates, freq)\n"
     ]
    },
    {
     "name": "stdout",
     "output_type": "stream",
     "text": [
      "Прогноз объема продаж Эстус в городе Врата Балдура: 1004     2.767724\n",
      "1005     5.807832\n",
      "1006     8.081273\n",
      "1007    10.751652\n",
      "1008    12.356011\n",
      "1009    13.661081\n",
      "1010    15.494995\n",
      "1011    16.078067\n",
      "1012    17.480017\n",
      "1013    18.052343\n",
      "Name: predicted_mean, dtype: float64\n",
      "Прогноз объема продаж Эльфийская пыльца в городе Врата Балдура: 1000     4.698219\n",
      "1001     6.895372\n",
      "1002     8.155737\n",
      "1003    10.599389\n",
      "1004    10.310792\n",
      "1005     9.243678\n",
      "1006    13.153442\n",
      "1007     9.525535\n",
      "1008    10.883087\n",
      "1009     9.580137\n",
      "Name: predicted_mean, dtype: float64\n"
     ]
    },
    {
     "name": "stderr",
     "output_type": "stream",
     "text": [
      "C:\\Users\\Аня\\AppData\\Local\\Programs\\Python\\Python311\\Lib\\site-packages\\statsmodels\\tsa\\base\\tsa_model.py:834: ValueWarning: No supported index is available. Prediction results will be given with an integer index beginning at `start`.\n",
      "  return get_prediction_index(\n"
     ]
    }
   ],
   "source": [
    "exog = df_group[['price']]\n",
    "\n",
    "# Построение модели SARIMAX для каждого продукта в каждом городе\n",
    "for city in df_group['place'].unique():\n",
    "    for product in df_group['product'].unique():\n",
    "        model = SARIMAX(endog=df_group.loc[(df_group['place'] == city) & (df_group['product'] == product)]['amount'],\n",
    "                        exog= exog.loc[(df_group['place'] == city) & (df_group['product'] == product)],\n",
    "                        order=(1, 0, 0),\n",
    "                        seasonal_order=(1, 0, 0, 12))\n",
    "        results = model.fit()\n",
    "\n",
    "        # Получение прогнозов\n",
    "        forecast = results.get_forecast(steps=10, exog=[10]*10)\n",
    "        print(f'Прогноз объема продаж {product} в городе {city}: {forecast.predicted_mean}')"
   ]
  },
  {
   "cell_type": "code",
   "execution_count": null,
   "id": "e838e662",
   "metadata": {},
   "outputs": [],
   "source": []
  }
 ],
 "metadata": {
  "kernelspec": {
   "display_name": "Python 3 (ipykernel)",
   "language": "python",
   "name": "python3"
  },
  "language_info": {
   "codemirror_mode": {
    "name": "ipython",
    "version": 3
   },
   "file_extension": ".py",
   "mimetype": "text/x-python",
   "name": "python",
   "nbconvert_exporter": "python",
   "pygments_lexer": "ipython3",
   "version": "3.11.0"
  }
 },
 "nbformat": 4,
 "nbformat_minor": 5
}
