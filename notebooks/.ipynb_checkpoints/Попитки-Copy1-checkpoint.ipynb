{
 "cells": [
  {
   "cell_type": "code",
   "execution_count": 1,
   "id": "13458db4",
   "metadata": {},
   "outputs": [],
   "source": [
    "import pandas as pd\n",
    "import numpy as np\n",
    "import seaborn as sns\n",
    "import matplotlib.pyplot as plt\n",
    "from statsmodels.tsa.statespace.sarimax import SARIMAX\n",
    "from statsmodels.tsa.statespace.sarimax import SARIMAXResults\n",
    "from sklearn.metrics import mean_absolute_error"
   ]
  },
  {
   "cell_type": "code",
   "execution_count": 2,
   "id": "e818e100",
   "metadata": {},
   "outputs": [],
   "source": [
    "plt.rcParams[\"figure.figsize\"] = (12, 8)\n",
    "plt.rcParams.update({'font.size': 11})"
   ]
  },
  {
   "cell_type": "code",
   "execution_count": 42,
   "id": "ed55f5b8",
   "metadata": {},
   "outputs": [],
   "source": [
    "df_transaction = pd.read_parquet(\"../data/transaction_df.parquet\")\n",
    "df_competitors = pd.read_parquet(\"../data/df_competitors.parquet\")\n",
    "df_cost = pd.read_parquet(\"../data/df_cost.parquet\")"
   ]
  },
  {
   "cell_type": "code",
   "execution_count": 43,
   "id": "534e9b14",
   "metadata": {},
   "outputs": [
    {
     "data": {
      "text/html": [
       "<div>\n",
       "<style scoped>\n",
       "    .dataframe tbody tr th:only-of-type {\n",
       "        vertical-align: middle;\n",
       "    }\n",
       "\n",
       "    .dataframe tbody tr th {\n",
       "        vertical-align: top;\n",
       "    }\n",
       "\n",
       "    .dataframe thead th {\n",
       "        text-align: right;\n",
       "    }\n",
       "</style>\n",
       "<table border=\"1\" class=\"dataframe\">\n",
       "  <thead>\n",
       "    <tr style=\"text-align: right;\">\n",
       "      <th></th>\n",
       "      <th>place</th>\n",
       "      <th>product</th>\n",
       "      <th>cost</th>\n",
       "      <th>date</th>\n",
       "    </tr>\n",
       "  </thead>\n",
       "  <tbody>\n",
       "    <tr>\n",
       "      <th>0</th>\n",
       "      <td>Анор Лондо</td>\n",
       "      <td>Целебные травы</td>\n",
       "      <td>2.07</td>\n",
       "      <td>2216-01-02</td>\n",
       "    </tr>\n",
       "    <tr>\n",
       "      <th>1</th>\n",
       "      <td>Анор Лондо</td>\n",
       "      <td>Целебные травы</td>\n",
       "      <td>3.07</td>\n",
       "      <td>2216-01-26</td>\n",
       "    </tr>\n",
       "    <tr>\n",
       "      <th>2</th>\n",
       "      <td>Анор Лондо</td>\n",
       "      <td>Целебные травы</td>\n",
       "      <td>3.30</td>\n",
       "      <td>2216-02-12</td>\n",
       "    </tr>\n",
       "    <tr>\n",
       "      <th>3</th>\n",
       "      <td>Анор Лондо</td>\n",
       "      <td>Целебные травы</td>\n",
       "      <td>4.04</td>\n",
       "      <td>2216-03-06</td>\n",
       "    </tr>\n",
       "    <tr>\n",
       "      <th>4</th>\n",
       "      <td>Анор Лондо</td>\n",
       "      <td>Целебные травы</td>\n",
       "      <td>3.88</td>\n",
       "      <td>2216-03-27</td>\n",
       "    </tr>\n",
       "    <tr>\n",
       "      <th>...</th>\n",
       "      <td>...</td>\n",
       "      <td>...</td>\n",
       "      <td>...</td>\n",
       "      <td>...</td>\n",
       "    </tr>\n",
       "    <tr>\n",
       "      <th>1112</th>\n",
       "      <td>Фалькония</td>\n",
       "      <td>Эстус</td>\n",
       "      <td>3.10</td>\n",
       "      <td>2218-07-29</td>\n",
       "    </tr>\n",
       "    <tr>\n",
       "      <th>1113</th>\n",
       "      <td>Фалькония</td>\n",
       "      <td>Эстус</td>\n",
       "      <td>7.20</td>\n",
       "      <td>2218-08-10</td>\n",
       "    </tr>\n",
       "    <tr>\n",
       "      <th>1114</th>\n",
       "      <td>Фалькония</td>\n",
       "      <td>Эстус</td>\n",
       "      <td>3.31</td>\n",
       "      <td>2218-08-27</td>\n",
       "    </tr>\n",
       "    <tr>\n",
       "      <th>1115</th>\n",
       "      <td>Фалькония</td>\n",
       "      <td>Эстус</td>\n",
       "      <td>3.26</td>\n",
       "      <td>2218-09-16</td>\n",
       "    </tr>\n",
       "    <tr>\n",
       "      <th>1116</th>\n",
       "      <td>Фалькония</td>\n",
       "      <td>Эстус</td>\n",
       "      <td>7.29</td>\n",
       "      <td>2218-09-24</td>\n",
       "    </tr>\n",
       "  </tbody>\n",
       "</table>\n",
       "<p>1117 rows × 4 columns</p>\n",
       "</div>"
      ],
      "text/plain": [
       "           place         product  cost       date\n",
       "0     Анор Лондо  Целебные травы  2.07 2216-01-02\n",
       "1     Анор Лондо  Целебные травы  3.07 2216-01-26\n",
       "2     Анор Лондо  Целебные травы  3.30 2216-02-12\n",
       "3     Анор Лондо  Целебные травы  4.04 2216-03-06\n",
       "4     Анор Лондо  Целебные травы  3.88 2216-03-27\n",
       "...          ...             ...   ...        ...\n",
       "1112   Фалькония           Эстус  3.10 2218-07-29\n",
       "1113   Фалькония           Эстус  7.20 2218-08-10\n",
       "1114   Фалькония           Эстус  3.31 2218-08-27\n",
       "1115   Фалькония           Эстус  3.26 2218-09-16\n",
       "1116   Фалькония           Эстус  7.29 2218-09-24\n",
       "\n",
       "[1117 rows x 4 columns]"
      ]
     },
     "execution_count": 43,
     "metadata": {},
     "output_type": "execute_result"
    }
   ],
   "source": [
    "df_cost"
   ]
  },
  {
   "cell_type": "code",
   "execution_count": 44,
   "id": "2bdd440e",
   "metadata": {},
   "outputs": [],
   "source": [
    "df_transaction['datetime'] = pd.to_datetime(df_transaction['datetime']).dt.date"
   ]
  },
  {
   "cell_type": "code",
   "execution_count": 45,
   "id": "9aaf6bca",
   "metadata": {},
   "outputs": [],
   "source": [
    "df_transaction = df_transaction.set_index('datetime')"
   ]
  },
  {
   "cell_type": "code",
   "execution_count": 46,
   "id": "2944700c",
   "metadata": {},
   "outputs": [],
   "source": [
    "df_transaction = df_transaction.dropna()"
   ]
  },
  {
   "cell_type": "code",
   "execution_count": 47,
   "id": "9d58a1cb",
   "metadata": {},
   "outputs": [],
   "source": [
    "df_transaction = df_transaction[(df_transaction['amount'] > 0) & (df_transaction['price'] > 0)]"
   ]
  },
  {
   "cell_type": "code",
   "execution_count": 48,
   "id": "e61bd5d9",
   "metadata": {},
   "outputs": [],
   "source": [
    "df_transaction.groupby(['datetime', 'price', 'product','place']).agg({'amount': ['sum']}).reset_index().to_csv('../data/transaction_group.csv', index=False)  "
   ]
  },
  {
   "cell_type": "code",
   "execution_count": 49,
   "id": "3dc879c3",
   "metadata": {},
   "outputs": [],
   "source": [
    "df_group = pd.read_csv(\"../data/transaction_group.csv\", parse_dates=['datetime'],index_col='datetime')"
   ]
  },
  {
   "cell_type": "code",
   "execution_count": 50,
   "id": "a68e3674",
   "metadata": {},
   "outputs": [],
   "source": [
    "df_group=df_group.dropna()"
   ]
  },
  {
   "cell_type": "code",
   "execution_count": 51,
   "id": "6a08f29e",
   "metadata": {},
   "outputs": [],
   "source": [
    "df_competitors=df_competitors.rename(columns={'price':'compet_price','date':'datetime'})"
   ]
  },
  {
   "cell_type": "code",
   "execution_count": 52,
   "id": "f2c5ea17",
   "metadata": {},
   "outputs": [],
   "source": [
    "df_group.merge(df_competitors, on=['datetime','product','place']).to_csv('../data/transaction_with_competitors.csv', index=False)"
   ]
  },
  {
   "cell_type": "code",
   "execution_count": 53,
   "id": "25070373",
   "metadata": {},
   "outputs": [],
   "source": [
    "df_transaction_competitors = pd.read_csv(\"../data/transaction_with_competitors.csv\", parse_dates=['datetime'],index_col='datetime')"
   ]
  },
  {
   "cell_type": "code",
   "execution_count": 54,
   "id": "dda28439",
   "metadata": {},
   "outputs": [],
   "source": [
    "df_transaction_competitors['amount'] = df_transaction_competitors['amount'].astype(float)\n",
    "df_transaction_competitors['price'] =df_transaction_competitors['price'].astype(float)\n",
    "df_transaction_competitors['compet_price'] =df_transaction_competitors['compet_price'].astype(float)"
   ]
  },
  {
   "cell_type": "code",
   "execution_count": 55,
   "id": "1295abb1",
   "metadata": {},
   "outputs": [],
   "source": [
    "df_transaction_competitors=df_transaction_competitors.reset_index()"
   ]
  },
  {
   "cell_type": "code",
   "execution_count": 56,
   "id": "cf7a73ce",
   "metadata": {},
   "outputs": [],
   "source": [
    "# def adjust_predicted_prices(predicted_prices, competitor_prices):\n",
    "#     adjusted_prices = predicted_prices\n",
    "#     for i in range(len(predicted_prices)):\n",
    "#         if predicted_prices[i] > (1.2 * competitor_prices[i]):\n",
    "#             adjusted_prices[i] = 1.2 * competitor_prices[i]\n",
    "#     return adjusted_prices"
   ]
  },
  {
   "cell_type": "code",
   "execution_count": 67,
   "id": "79e77c19",
   "metadata": {},
   "outputs": [],
   "source": [
    "# def sarimax_forecast(data,product, place):\n",
    "#     # Создание модели SARIMAX\n",
    "#     endog =df_transaction_competitors[(df_transaction_competitors['product'] == product) & (df_transaction_competitors['place'] == place)]['amount']\n",
    "#     exog = df_transaction_competitors[(df_transaction_competitors['product'] == product) & (df_transaction_competitors['place'] == place)]['price']\n",
    "#     model = SARIMAX(endog=endog,\n",
    "#                         order=(1, 0, 0),\n",
    "#                         seasonal_order=(1, 0, 0, 12),exog=exog)\n",
    "#     results = model.fit()\n",
    "\n",
    "#         # Получение прогнозов\n",
    "#     forecast = results.get_forecast(steps=90, exog=[10]*10)\n",
    "    \n",
    "    \n",
    "# #     last_price = exog.iloc[-1]['price']\n",
    "# #     competitor_price = exog.iloc[-1]['compet_price']\n",
    "# #     forecast[forecast > 0.8 * competitor_price] = 0.8 * competitor_price\n",
    "\n",
    "# #     # Создание датафрейма с прогнозом\n",
    "# #     forecast_df = pd.DataFrame({'Дата': pd.DataFrame(range(1, 91)), \n",
    "# #                                 'product': [product] * 90, \n",
    "# #                                 'place': [place] * 90, \n",
    "# #                                 'price': forecast})\n",
    "\n",
    "#     return forecast\n",
    "\n",
    "def sarimax_model(df_transaction_competitors, product, city):\n",
    "    df = df_transaction_competitors[(df_transaction_competitors['product'] == product) & (df_transaction_competitors['place'] == place)]\n",
    "    df = df[['datetime', 'amount']]\n",
    "    df['datetime'] = pd.to_datetime(df['datetime'])\n",
    "    df.set_index('datetime', inplace=True)\n",
    "    \n",
    "    model = SARIMAX(df['amount'], order=(1, 1, 1), seasonal_order=(1, 1, 0, 12))\n",
    "    model_fit = model.fit(disp=False)\n",
    "    \n",
    "    forecast = model_fit.predict(start=len(df), end=len(df)+89)\n",
    "    \n",
    "    return forecast"
   ]
  },
  {
   "cell_type": "code",
   "execution_count": 68,
   "id": "07a329bd",
   "metadata": {},
   "outputs": [],
   "source": [
    "products = df_transaction_competitors['product'].unique()\n",
    "places = df_transaction_competitors['place'].unique()"
   ]
  },
  {
   "cell_type": "code",
   "execution_count": null,
   "id": "10e0cdcd",
   "metadata": {},
   "outputs": [
    {
     "name": "stderr",
     "output_type": "stream",
     "text": [
      "C:\\Users\\Аня\\AppData\\Local\\Programs\\Python\\Python311\\Lib\\site-packages\\statsmodels\\tsa\\base\\tsa_model.py:471: ValueWarning: A date index has been provided, but it has no associated frequency information and so will be ignored when e.g. forecasting.\n",
      "  self._init_dates(dates, freq)\n",
      "C:\\Users\\Аня\\AppData\\Local\\Programs\\Python\\Python311\\Lib\\site-packages\\statsmodels\\tsa\\base\\tsa_model.py:471: ValueWarning: A date index has been provided, but it has no associated frequency information and so will be ignored when e.g. forecasting.\n",
      "  self._init_dates(dates, freq)\n",
      "C:\\Users\\Аня\\AppData\\Local\\Programs\\Python\\Python311\\Lib\\site-packages\\statsmodels\\tsa\\statespace\\sarimax.py:966: UserWarning: Non-stationary starting autoregressive parameters found. Using zeros as starting parameters.\n",
      "  warn('Non-stationary starting autoregressive parameters'\n",
      "C:\\Users\\Аня\\AppData\\Local\\Programs\\Python\\Python311\\Lib\\site-packages\\statsmodels\\tsa\\statespace\\sarimax.py:978: UserWarning: Non-invertible starting MA parameters found. Using zeros as starting parameters.\n",
      "  warn('Non-invertible starting MA parameters found.'\n"
     ]
    }
   ],
   "source": [
    "predictions = pd.DataFrame(columns=['date', 'product', 'place', 'Forecast'])\n",
    "\n",
    "for product in products:\n",
    "    for place in places:\n",
    "        forecast = sarimax_model(df_transaction_competitors, product, place)\n",
    "        date_range = pd.date_range(start=df_transaction_competitors['date'].max() + pd.DateOffset(1), periods=90)\n",
    "        temp_df = pd.DataFrame({'date': date_range, 'product': product, 'place': place, 'Forecast': forecast})\n",
    "        predictions = pd.concat([predictions, temp_df])"
   ]
  },
  {
   "cell_type": "code",
   "execution_count": 66,
   "id": "54472fe8",
   "metadata": {},
   "outputs": [],
   "source": [
    "# df_baseline = []\n",
    "# for (place, product) in df_transaction_competitors.groupby([\"place\", \"product\"]):\n",
    "#     temp_df = pd.DataFrame(range(1, 91), columns=[\"day_num\"])\n",
    "#     temp_df[\"place\"] = place\n",
    "#     temp_df[\"product\"] = product\n",
    "#     forecast = sarimax_forecast(df_transaction_competitors, product, place)\n",
    "#     temp_df[\"price\"] = forecast.sort_values(\"datetime\").iloc[-1][\"price\"]\n",
    "#     df_baseline.append(temp_df)\n",
    "# df_baseline = pd.concat(df_baseline)"
   ]
  },
  {
   "cell_type": "code",
   "execution_count": 60,
   "id": "26a7b1cc",
   "metadata": {},
   "outputs": [],
   "source": [
    "# # prices= df_transaction_competitors['price']\n",
    "# results = []\n",
    "\n",
    "# for product in df_transaction_competitors['product'].unique():\n",
    "#     for place in  df_transaction_competitors['place'].unique():\n",
    "#         df_transaction_competitors[(df_transaction_competitors['product'] == product) & (df_transaction_competitors['place'] == place)]['price']\n",
    "#         forecast = sarimax_forecast(df_transaction_competitors, product, place)\n",
    "#         results.append(forecast)\n",
    "# results_df = pd.concat(results)"
   ]
  },
  {
   "cell_type": "code",
   "execution_count": 61,
   "id": "ab72d8a7",
   "metadata": {},
   "outputs": [],
   "source": [
    "# def make_forecast(model, prices):\n",
    "#     forecast = model.get_forecast(steps=90, exog=prices)\n",
    "#     return forecast"
   ]
  },
  {
   "cell_type": "code",
   "execution_count": 62,
   "id": "1b053b3a",
   "metadata": {},
   "outputs": [],
   "source": [
    "\n",
    "#     # Создание таблицы с предсказанными ценами\n",
    "#     forecast_prices = pd.DataFrame({'day_num': pd.DataFrame(range(1, 91)),\n",
    "#                                     'product': product,\n",
    "#                                     'place': place,\n",
    "#                                     'price': forecast.predicted_mean})\n",
    "\n",
    "#     # Корректировка предсказанных цен\n",
    "#     forecast_prices['price'] = adjust_predicted_prices(forecast_prices['price'], competitor_prices)"
   ]
  },
  {
   "cell_type": "code",
   "execution_count": 64,
   "id": "0cd3a8d3",
   "metadata": {},
   "outputs": [],
   "source": [
    "# predicted_prices_table = pd.DataFrame(columns=['Product', 'City', 'Predicted_price'])\n",
    "# for product in df_transaction_competitors['product'].unique():\n",
    "#     for place in  df_transaction_competitors['place'].unique():\n",
    "#         prices = df_transaction_competitors[(df_transaction_competitors['product'] == product) & (df_transaction_competitors['place'] == place)]['price']\n",
    "#         competitor_prices = df_transaction_competitors[(df_transaction_competitors['product'] == product) & (df_transaction_competitors['place'] == place)]['compet_price']\n",
    "#         forecast = sarimax_forecast(product, place, prices, competitor_prices)\n",
    "# #         forecast_table = forecast_table.append(forecast)\n",
    "#         competitor_prices = df_transaction_competitors[(df_transaction_competitors['product'] == product) & (df_transaction_competitors['place'] == place)]['compet_price'].values\n",
    "#         forecast_prices = adjust_predicted_prices(forecast, competitor_prices)\n",
    "        \n",
    "#         # Добавление результатов в таблицу\n",
    "#         temp_df = pd.DataFrame({'Product': [product]*90, 'place': [place]*90, 'price': adjusted_prices})\n",
    "#         predicted_prices_table = pd.concat([predicted_prices_table, temp_df])\n",
    "\n",
    "# # Вывод таблицы с предсказанными ценами\n",
    "# print(forecast_table)"
   ]
  },
  {
   "cell_type": "code",
   "execution_count": null,
   "id": "1204fd50",
   "metadata": {},
   "outputs": [],
   "source": [
    "# # Функция для корректировки предсказанных цен\n",
    "# def adjust_predicted_prices(predicted_prices, competitor_prices):\n",
    "#     adjusted_prices = predicted_prices\n",
    "#     for i in range(len(predicted_prices)):\n",
    "#         if predicted_prices[i] > (1.2 * competitor_prices[i]):\n",
    "#             adjusted_prices[i] = 1.2 * competitor_prices[i]\n",
    "#     return adjusted_prices"
   ]
  },
  {
   "cell_type": "code",
   "execution_count": null,
   "id": "1acf15ad",
   "metadata": {},
   "outputs": [],
   "source": [
    "# predicted_prices_table = pd.DataFrame(columns=['product', 'place', 'price'])\n",
    "# for product in df_transaction_competitors['product'].unique():\n",
    "#     for place in df_transaction_competitors['place'].unique():\n",
    "#         # Построение модели и предсказание объема продаж\n",
    "#         forecast = build_sarimax_model(df_transaction_competitors, product, place)\n",
    "#         predicted_prices=forecast.predicted_mean\n",
    "        \n",
    "#         # Коррекция предсказанных цен\n",
    "#         competitor_prices = df_transaction_competitors[(df_transaction_competitors['product'] == product) & (df_transaction_competitors['place'] == place)]['compet_price'].values\n",
    "#         adjusted_prices = adjust_predicted_prices(predicted_prices, competitor_prices)\n",
    "        \n",
    "#         # Добавление результатов в таблицу\n",
    "#         temp_df = pd.DataFrame({'product': [product]*90, 'place': [place]*90, 'price': adjusted_prices})\n",
    "#         predicted_prices_table = pd.concat([predicted_prices_table, temp_df])\n",
    "\n",
    "# # Вывод таблицы с предсказанными ценами\n",
    "# print(predicted_prices_table)"
   ]
  },
  {
   "cell_type": "code",
   "execution_count": 65,
   "id": "f3d91acf",
   "metadata": {},
   "outputs": [],
   "source": [
    "# def forecast_sales(df, product, city):\n",
    "#     # Выбор нужных столбцов\n",
    "#     sales = df[['Дата продажи', 'Объем продаж ' + product + ' в ' + city, 'Цена ' + product, 'Цена конкурента ' + product]]\n",
    "#     sales['Дата продажи'] = pd.to_datetime(sales['Дата продажи'])\n",
    "#     sales.set_index('Дата продажи', inplace=True)\n",
    "    \n",
    "#     # Создание модели SARIMAX\n",
    "#     model = SARIMAX(sales['Объем продаж ' + product + ' в ' + city])\n",
    "\n",
    "#     # Обучение модели\n",
    "#     model_fit = model.fit()\n",
    "\n",
    "#     # Прогнозирование продаж на 90 дней вперед\n",
    "#     forecast = model_fit.forecast(steps=90)\n",
    "\n",
    "#     # Проверка условия на цену (не больше 20% от цены конкурента)\n",
    "#     last_price = sales.iloc[-1]['Цена ' + product]\n",
    "#     competitor_price = sales.iloc[-1]['Цена конкурента ' + product]\n",
    "#     forecast[forecast > 0.8 * competitor_price] = 0.8 * competitor_price\n",
    "\n",
    "#     # Создание датафрейма с прогнозом\n",
    "#     forecast_df = pd.DataFrame({'Дата': pd.date_range(start=sales.index[-1] + pd.DateOffset(1), periods=90), \n",
    "#                                 'Продукт': [product] * 90, \n",
    "#                                 'Город': [city] * 90, \n",
    "#                                 'Цена': forecast})\n",
    "\n",
    "#     return forecast_df\n"
   ]
  },
  {
   "cell_type": "code",
   "execution_count": null,
   "id": "ddba299b",
   "metadata": {},
   "outputs": [],
   "source": []
  }
 ],
 "metadata": {
  "kernelspec": {
   "display_name": "Python 3 (ipykernel)",
   "language": "python",
   "name": "python3"
  },
  "language_info": {
   "codemirror_mode": {
    "name": "ipython",
    "version": 3
   },
   "file_extension": ".py",
   "mimetype": "text/x-python",
   "name": "python",
   "nbconvert_exporter": "python",
   "pygments_lexer": "ipython3",
   "version": "3.11.0"
  }
 },
 "nbformat": 4,
 "nbformat_minor": 5
}
